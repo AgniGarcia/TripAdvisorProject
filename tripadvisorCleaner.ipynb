{
 "cells": [
  {
   "cell_type": "code",
   "metadata": {
    "tags": [],
    "cell_id": "e6f760b5-96f2-487c-82c0-cb65243daa90",
    "deepnote_to_be_reexecuted": false,
    "source_hash": "9b82ee11",
    "execution_start": 1662735995780,
    "execution_millis": 1,
    "deepnote_cell_type": "code",
    "deepnote_cell_height": 76
   },
   "source": "import pandas as pd",
   "execution_count": 2,
   "outputs": []
  },
  {
   "cell_type": "code",
   "metadata": {
    "cell_id": "f3dcb7fc8e8441968fef6b45bf4b9a4e",
    "tags": [],
    "deepnote_to_be_reexecuted": false,
    "source_hash": "da7db5c6",
    "execution_start": 1662735998719,
    "execution_millis": 55,
    "deepnote_cell_type": "code",
    "deepnote_cell_height": 76
   },
   "source": "df = pd.read_csv('tripadvisor_restaurants.csv')",
   "execution_count": 3,
   "outputs": []
  },
  {
   "cell_type": "code",
   "metadata": {
    "cell_id": "7cbbee9427214d49b8d57f706a2f2959",
    "tags": [],
    "deepnote_to_be_reexecuted": false,
    "source_hash": "cbb207d",
    "execution_start": 1662731008212,
    "execution_millis": 1,
    "deepnote_cell_type": "code",
    "deepnote_cell_height": 76
   },
   "source": "df.columns = df.columns.str.replace('in_pric', 'min_price')",
   "execution_count": null,
   "outputs": []
  },
  {
   "cell_type": "code",
   "source": "min_price_mean = df['min_price'].mean()\nmax_price_median = df['max_price'].median()",
   "metadata": {
    "cell_id": "a8a1fda88ea24ac486bf6fce68dab243",
    "tags": [],
    "deepnote_to_be_reexecuted": false,
    "source_hash": "3ef1d5a9",
    "execution_start": 1662736419863,
    "execution_millis": 3,
    "deepnote_cell_type": "code",
    "deepnote_cell_height": 94,
    "deepnote_output_heights": [
     20.1875
    ]
   },
   "outputs": [],
   "execution_count": 20
  },
  {
   "cell_type": "code",
   "source": "df['min_price'] = df['min_price'].fillna(min_price_mean)\n\ndf['max_price'] = df['max_price'].fillna(max_price_median)\n",
   "metadata": {
    "cell_id": "1ad7f5c09e2b4936ba3236e280348bdc",
    "tags": [],
    "deepnote_to_be_reexecuted": false,
    "source_hash": "a9cfd590",
    "execution_start": 1662736426310,
    "execution_millis": 3,
    "deepnote_cell_type": "code",
    "deepnote_cell_height": 130
   },
   "outputs": [],
   "execution_count": 21
  },
  {
   "cell_type": "code",
   "source": "df['min_price'] = pd.to_numeric(df['min_price'], errors='coerce')\n",
   "metadata": {
    "cell_id": "30eb419ef1af4bfe885a399aac019d02",
    "tags": [],
    "deepnote_to_be_reexecuted": false,
    "source_hash": "55dcf18f",
    "execution_start": 1662736254558,
    "execution_millis": 4,
    "deepnote_cell_type": "code",
    "deepnote_cell_height": 94
   },
   "outputs": [],
   "execution_count": 11
  },
  {
   "cell_type": "code",
   "source": "df['min_price'] = df['min_price'].replace('n a, Cont n a, , , Fusi _n,',' ', regex=True)",
   "metadata": {
    "cell_id": "af8a8f310bca47e0b29dd0c0ea58d243",
    "tags": [],
    "deepnote_to_be_reexecuted": false,
    "source_hash": "95f73272",
    "execution_start": 1662736127219,
    "execution_millis": 2,
    "deepnote_cell_type": "code",
    "deepnote_cell_height": 76
   },
   "execution_count": 7,
   "outputs": []
  },
  {
   "cell_type": "code",
   "metadata": {
    "cell_id": "484bf69652a742fe86c1bd38e64e1674",
    "tags": [],
    "deepnote_to_be_reexecuted": false,
    "source_hash": "52430027",
    "execution_start": 1662736007268,
    "execution_millis": 4,
    "deepnote_cell_type": "code",
    "deepnote_cell_height": 323.25,
    "deepnote_output_heights": [
     231.25
    ]
   },
   "source": "df.dtypes",
   "execution_count": 4,
   "outputs": [
    {
     "output_type": "execute_result",
     "execution_count": 4,
     "data": {
      "text/plain": "address             object\ndomain              object\nextracted_date      object\nfood_category       object\nfood_types          object\nlink                object\nopinions            object\nmin_price           object\nmax_price          float64\nrating             float64\nrestaurant_name     object\ndtype: object"
     },
     "metadata": {}
    }
   ]
  },
  {
   "cell_type": "code",
   "metadata": {
    "cell_id": "bde01be7994e463f98fae2a467940f60",
    "tags": [],
    "deepnote_to_be_reexecuted": false,
    "source_hash": "c085b6ba",
    "execution_start": 1662736429819,
    "execution_millis": 22,
    "deepnote_cell_type": "code",
    "deepnote_cell_height": 390
   },
   "source": "df.head()",
   "execution_count": 22,
   "outputs": [
    {
     "output_type": "execute_result",
     "execution_count": 22,
     "data": {
      "application/vnd.deepnote.dataframe.v3+json": {
       "column_count": 11,
       "row_count": 5,
       "columns": [
        {
         "name": "address",
         "dtype": "object",
         "stats": {
          "unique_count": 5,
          "nan_count": 0,
          "categories": [
           {
            "name": "Avenida Emilio Castelar 44, Ciudad de M̩xico 11000 M̩xico",
            "count": 1
           },
           {
            "name": "AVENIDA SANTA FE 160 AVENIDA SANTA FE 160, Ciudad de M̩xico 01376 M̩xico",
            "count": 1
           },
           {
            "name": "3 others",
            "count": 3
           }
          ]
         }
        },
        {
         "name": "domain",
         "dtype": "object",
         "stats": {
          "unique_count": 1,
          "nan_count": 0,
          "categories": [
           {
            "name": "www.tripadvisor.com.mx",
            "count": 5
           }
          ]
         }
        },
        {
         "name": "extracted_date",
         "dtype": "object",
         "stats": {
          "unique_count": 1,
          "nan_count": 0,
          "categories": [
           {
            "name": "08/09/22 17:49",
            "count": 5
           }
          ]
         }
        },
        {
         "name": "food_category",
         "dtype": "object",
         "stats": {
          "unique_count": 5,
          "nan_count": 0,
          "categories": [
           {
            "name": "Almuerzo, Cena, Bebidas",
            "count": 1
           },
           {
            "name": "Italiana, Mediterr��nea, Europea, Saludable, Toscana, Romana, De Lacio, Siciliana, Del centro italiano, Del sur italiano",
            "count": 1
           },
           {
            "name": "3 others",
            "count": 3
           }
          ]
         }
        },
        {
         "name": "food_types",
         "dtype": "object",
         "stats": {
          "unique_count": 5,
          "nan_count": 0,
          "categories": [
           {
            "name": "Vino y cerveza, Servicio de mesa",
            "count": 1
           },
           {
            "name": "Apto para vegetarianos, Opciones veganas, Opciones sin gluten",
            "count": 1
           },
           {
            "name": "3 others",
            "count": 3
           }
          ]
         }
        },
        {
         "name": "link",
         "dtype": "object",
         "stats": {
          "unique_count": 5,
          "nan_count": 0,
          "categories": [
           {
            "name": "https://www.tripadvisor.com.mx/Restaurant_Review-g150800-d24093482-Reviews-Pardela-Mexico_City_Central_Mexico_and_Gulf_Coast.html",
            "count": 1
           },
           {
            "name": "https://www.tripadvisor.com.mx/Restaurant_Review-g150800-d4035248-Reviews-Quattro-Mexico_City_Central_Mexico_and_Gulf_Coast.html",
            "count": 1
           },
           {
            "name": "3 others",
            "count": 3
           }
          ]
         }
        },
        {
         "name": "opinions",
         "dtype": "object",
         "stats": {
          "unique_count": 5,
          "nan_count": 0,
          "categories": [
           {
            "name": "2",
            "count": 1
           },
           {
            "name": "741",
            "count": 1
           },
           {
            "name": "3 others",
            "count": 3
           }
          ]
         }
        },
        {
         "name": "min_price",
         "dtype": "float64",
         "stats": {
          "unique_count": 4,
          "nan_count": 0,
          "min": "250.0",
          "max": "1200.0",
          "histogram": [
           {
            "bin_start": 250,
            "bin_end": 345,
            "count": 1
           },
           {
            "bin_start": 345,
            "bin_end": 440,
            "count": 1
           },
           {
            "bin_start": 440,
            "bin_end": 535,
            "count": 2
           },
           {
            "bin_start": 535,
            "bin_end": 630,
            "count": 0
           },
           {
            "bin_start": 630,
            "bin_end": 725,
            "count": 0
           },
           {
            "bin_start": 725,
            "bin_end": 820,
            "count": 0
           },
           {
            "bin_start": 820,
            "bin_end": 915,
            "count": 0
           },
           {
            "bin_start": 915,
            "bin_end": 1010,
            "count": 0
           },
           {
            "bin_start": 1010,
            "bin_end": 1105,
            "count": 0
           },
           {
            "bin_start": 1105,
            "bin_end": 1200,
            "count": 1
           }
          ]
         }
        },
        {
         "name": "max_price",
         "dtype": "float64",
         "stats": {
          "unique_count": 4,
          "nan_count": 0,
          "min": "600.0",
          "max": "44320.62354463131",
          "histogram": [
           {
            "bin_start": 600,
            "bin_end": 4972.062354463131,
            "count": 3
           },
           {
            "bin_start": 4972.062354463131,
            "bin_end": 9344.124708926262,
            "count": 0
           },
           {
            "bin_start": 9344.124708926262,
            "bin_end": 13716.187063389392,
            "count": 0
           },
           {
            "bin_start": 13716.187063389392,
            "bin_end": 18088.249417852523,
            "count": 0
           },
           {
            "bin_start": 18088.249417852523,
            "bin_end": 22460.311772315654,
            "count": 0
           },
           {
            "bin_start": 22460.311772315654,
            "bin_end": 26832.374126778785,
            "count": 0
           },
           {
            "bin_start": 26832.374126778785,
            "bin_end": 31204.436481241915,
            "count": 0
           },
           {
            "bin_start": 31204.436481241915,
            "bin_end": 35576.498835705046,
            "count": 0
           },
           {
            "bin_start": 35576.498835705046,
            "bin_end": 39948.56119016818,
            "count": 0
           },
           {
            "bin_start": 39948.56119016818,
            "bin_end": 44320.62354463131,
            "count": 2
           }
          ]
         }
        },
        {
         "name": "rating",
         "dtype": "float64",
         "stats": {
          "unique_count": 1,
          "nan_count": 0,
          "min": "5.0",
          "max": "5.0",
          "histogram": [
           {
            "bin_start": 4.5,
            "bin_end": 4.6,
            "count": 0
           },
           {
            "bin_start": 4.6,
            "bin_end": 4.7,
            "count": 0
           },
           {
            "bin_start": 4.7,
            "bin_end": 4.8,
            "count": 0
           },
           {
            "bin_start": 4.8,
            "bin_end": 4.9,
            "count": 0
           },
           {
            "bin_start": 4.9,
            "bin_end": 5,
            "count": 0
           },
           {
            "bin_start": 5,
            "bin_end": 5.1,
            "count": 5
           },
           {
            "bin_start": 5.1,
            "bin_end": 5.2,
            "count": 0
           },
           {
            "bin_start": 5.2,
            "bin_end": 5.3,
            "count": 0
           },
           {
            "bin_start": 5.3,
            "bin_end": 5.4,
            "count": 0
           },
           {
            "bin_start": 5.4,
            "bin_end": 5.5,
            "count": 0
           }
          ]
         }
        },
        {
         "name": "restaurant_name",
         "dtype": "object",
         "stats": {
          "unique_count": 5,
          "nan_count": 0,
          "categories": [
           {
            "name": "Pardela",
            "count": 1
           },
           {
            "name": "Quattro Gastronom�_a Italiana",
            "count": 1
           },
           {
            "name": "3 others",
            "count": 3
           }
          ]
         }
        },
        {
         "name": "_deepnote_index_column",
         "dtype": "int64"
        }
       ],
       "rows": [
        {
         "address": "Avenida Emilio Castelar 44, Ciudad de M̩xico 11000 M̩xico",
         "domain": "www.tripadvisor.com.mx",
         "extracted_date": "08/09/22 17:49",
         "food_category": "Almuerzo, Cena, Bebidas",
         "food_types": "Vino y cerveza, Servicio de mesa",
         "link": "https://www.tripadvisor.com.mx/Restaurant_Review-g150800-d24093482-Reviews-Pardela-Mexico_City_Central_Mexico_and_Gulf_Coast.html",
         "opinions": "2",
         "min_price": "463.7050452781371",
         "max_price": "44320.62354463131",
         "rating": "5.0",
         "restaurant_name": "Pardela",
         "_deepnote_index_column": "0"
        },
        {
         "address": "AVENIDA SANTA FE 160 AVENIDA SANTA FE 160, Ciudad de M̩xico 01376 M̩xico",
         "domain": "www.tripadvisor.com.mx",
         "extracted_date": "08/09/22 17:49",
         "food_category": "Italiana, Mediterr��nea, Europea, Saludable, Toscana, Romana, De Lacio, Siciliana, Del centro italiano, Del sur italiano",
         "food_types": "Apto para vegetarianos, Opciones veganas, Opciones sin gluten",
         "link": "https://www.tripadvisor.com.mx/Restaurant_Review-g150800-d4035248-Reviews-Quattro-Mexico_City_Central_Mexico_and_Gulf_Coast.html",
         "opinions": "741",
         "min_price": "402.0",
         "max_price": "1004.0",
         "rating": "5.0",
         "restaurant_name": "Quattro Gastronom�_a Italiana",
         "_deepnote_index_column": "1"
        },
        {
         "address": "Avenida Paseo de La Reforma 297 Sofitel Mexico City, Ciudad de M̩xico 06500 M̩xico",
         "domain": "www.tripadvisor.com.mx",
         "extracted_date": "08/09/22 17:49",
         "food_category": "Desayuno, Almuerzo, Brunch",
         "food_types": "Reservaciones, Asiento, Sirve alcohol, Bar completo, Acepta tarjetas de cr̩dito, Servicio de mesa",
         "link": "https://www.tripadvisor.com.mx/Restaurant_Review-g150800-d20295948-Reviews-Cityzen_Rooftop_Kitchen-Mexico_City_Central_Mexico_and_Gulf_Coast.html",
         "opinions": "1,080",
         "min_price": "463.7050452781371",
         "max_price": "44320.62354463131",
         "rating": "5.0",
         "restaurant_name": "Cityzen Rooftop Kitchen",
         "_deepnote_index_column": "2"
        },
        {
         "address": "Calzada Acoxpa # 610 Centro Comercial Gran Terraza Coapa locales 101,102,103, Ciudad de M̩xico 14390 M̩xico",
         "domain": "www.tripadvisor.com.mx",
         "extracted_date": "08/09/22 17:49",
         "food_category": "Mexicana, Parrilla, Contempor��nea",
         "food_types": "Almuerzo, Cena, Brunch, Abierto hasta tarde, Bebidas",
         "link": "https://www.tripadvisor.com.mx/Restaurant_Review-g150800-d19078418-Reviews-Porfirio_s_Coapa-Mexico_City_Central_Mexico_and_Gulf_Coast.html",
         "opinions": "643",
         "min_price": "250.0",
         "max_price": "600.0",
         "rating": "5.0",
         "restaurant_name": "Porfirio's Coapa",
         "_deepnote_index_column": "3"
        },
        {
         "address": "Calle Goldsmith Polanco III Secc. 66 Miguel Hidalgo, Ciudad de M̩xico 11540 M̩xico",
         "domain": "www.tripadvisor.com.mx",
         "extracted_date": "08/09/22 17:49",
         "food_category": "Asi��tica, Tailandesa, Coreana, Fusi�_n",
         "food_types": "Apto para vegetarianos",
         "link": "https://www.tripadvisor.com.mx/Restaurant_Review-g150800-d20158337-Reviews-KYU_MEXICO-Mexico_City_Central_Mexico_and_Gulf_Coast.html",
         "opinions": "373",
         "min_price": "1200.0",
         "max_price": "1800.0",
         "rating": "5.0",
         "restaurant_name": "KYU M��XICO",
         "_deepnote_index_column": "4"
        }
       ]
      },
      "text/plain": "                                             address                  domain  \\\n0  Avenida Emilio Castelar 44, Ciudad de M̩xico 1...  www.tripadvisor.com.mx   \n1  AVENIDA SANTA FE 160 AVENIDA SANTA FE 160, Ciu...  www.tripadvisor.com.mx   \n2  Avenida Paseo de La Reforma 297 Sofitel Mexico...  www.tripadvisor.com.mx   \n3  Calzada Acoxpa # 610 Centro Comercial Gran Ter...  www.tripadvisor.com.mx   \n4  Calle Goldsmith Polanco III Secc. 66 Miguel Hi...  www.tripadvisor.com.mx   \n\n   extracted_date                                      food_category  \\\n0  08/09/22 17:49                            Almuerzo, Cena, Bebidas   \n1  08/09/22 17:49  Italiana, Mediterr��nea, Europea, Saludable, T...   \n2  08/09/22 17:49                         Desayuno, Almuerzo, Brunch   \n3  08/09/22 17:49                 Mexicana, Parrilla, Contempor��nea   \n4  08/09/22 17:49            Asi��tica, Tailandesa, Coreana, Fusi�_n   \n\n                                          food_types  \\\n0                   Vino y cerveza, Servicio de mesa   \n1  Apto para vegetarianos, Opciones veganas, Opci...   \n2  Reservaciones, Asiento, Sirve alcohol, Bar com...   \n3  Almuerzo, Cena, Brunch, Abierto hasta tarde, B...   \n4                             Apto para vegetarianos   \n\n                                                link opinions    min_price  \\\n0  https://www.tripadvisor.com.mx/Restaurant_Revi...        2   463.705045   \n1  https://www.tripadvisor.com.mx/Restaurant_Revi...      741   402.000000   \n2  https://www.tripadvisor.com.mx/Restaurant_Revi...    1,080   463.705045   \n3  https://www.tripadvisor.com.mx/Restaurant_Revi...      643   250.000000   \n4  https://www.tripadvisor.com.mx/Restaurant_Revi...      373  1200.000000   \n\n      max_price  rating                restaurant_name  \n0  44320.623545     5.0                        Pardela  \n1   1004.000000     5.0  Quattro Gastronom�_a Italiana  \n2  44320.623545     5.0        Cityzen Rooftop Kitchen  \n3    600.000000     5.0               Porfirio's Coapa  \n4   1800.000000     5.0                    KYU M��XICO  ",
      "text/html": "<div>\n<style scoped>\n    .dataframe tbody tr th:only-of-type {\n        vertical-align: middle;\n    }\n\n    .dataframe tbody tr th {\n        vertical-align: top;\n    }\n\n    .dataframe thead th {\n        text-align: right;\n    }\n</style>\n<table border=\"1\" class=\"dataframe\">\n  <thead>\n    <tr style=\"text-align: right;\">\n      <th></th>\n      <th>address</th>\n      <th>domain</th>\n      <th>extracted_date</th>\n      <th>food_category</th>\n      <th>food_types</th>\n      <th>link</th>\n      <th>opinions</th>\n      <th>min_price</th>\n      <th>max_price</th>\n      <th>rating</th>\n      <th>restaurant_name</th>\n    </tr>\n  </thead>\n  <tbody>\n    <tr>\n      <th>0</th>\n      <td>Avenida Emilio Castelar 44, Ciudad de M̩xico 1...</td>\n      <td>www.tripadvisor.com.mx</td>\n      <td>08/09/22 17:49</td>\n      <td>Almuerzo, Cena, Bebidas</td>\n      <td>Vino y cerveza, Servicio de mesa</td>\n      <td>https://www.tripadvisor.com.mx/Restaurant_Revi...</td>\n      <td>2</td>\n      <td>463.705045</td>\n      <td>44320.623545</td>\n      <td>5.0</td>\n      <td>Pardela</td>\n    </tr>\n    <tr>\n      <th>1</th>\n      <td>AVENIDA SANTA FE 160 AVENIDA SANTA FE 160, Ciu...</td>\n      <td>www.tripadvisor.com.mx</td>\n      <td>08/09/22 17:49</td>\n      <td>Italiana, Mediterr��nea, Europea, Saludable, T...</td>\n      <td>Apto para vegetarianos, Opciones veganas, Opci...</td>\n      <td>https://www.tripadvisor.com.mx/Restaurant_Revi...</td>\n      <td>741</td>\n      <td>402.000000</td>\n      <td>1004.000000</td>\n      <td>5.0</td>\n      <td>Quattro Gastronom�_a Italiana</td>\n    </tr>\n    <tr>\n      <th>2</th>\n      <td>Avenida Paseo de La Reforma 297 Sofitel Mexico...</td>\n      <td>www.tripadvisor.com.mx</td>\n      <td>08/09/22 17:49</td>\n      <td>Desayuno, Almuerzo, Brunch</td>\n      <td>Reservaciones, Asiento, Sirve alcohol, Bar com...</td>\n      <td>https://www.tripadvisor.com.mx/Restaurant_Revi...</td>\n      <td>1,080</td>\n      <td>463.705045</td>\n      <td>44320.623545</td>\n      <td>5.0</td>\n      <td>Cityzen Rooftop Kitchen</td>\n    </tr>\n    <tr>\n      <th>3</th>\n      <td>Calzada Acoxpa # 610 Centro Comercial Gran Ter...</td>\n      <td>www.tripadvisor.com.mx</td>\n      <td>08/09/22 17:49</td>\n      <td>Mexicana, Parrilla, Contempor��nea</td>\n      <td>Almuerzo, Cena, Brunch, Abierto hasta tarde, B...</td>\n      <td>https://www.tripadvisor.com.mx/Restaurant_Revi...</td>\n      <td>643</td>\n      <td>250.000000</td>\n      <td>600.000000</td>\n      <td>5.0</td>\n      <td>Porfirio's Coapa</td>\n    </tr>\n    <tr>\n      <th>4</th>\n      <td>Calle Goldsmith Polanco III Secc. 66 Miguel Hi...</td>\n      <td>www.tripadvisor.com.mx</td>\n      <td>08/09/22 17:49</td>\n      <td>Asi��tica, Tailandesa, Coreana, Fusi�_n</td>\n      <td>Apto para vegetarianos</td>\n      <td>https://www.tripadvisor.com.mx/Restaurant_Revi...</td>\n      <td>373</td>\n      <td>1200.000000</td>\n      <td>1800.000000</td>\n      <td>5.0</td>\n      <td>KYU M��XICO</td>\n    </tr>\n  </tbody>\n</table>\n</div>"
     },
     "metadata": {}
    }
   ]
  },
  {
   "cell_type": "code",
   "source": "df['max_price'].describe()",
   "metadata": {
    "cell_id": "81ff8dcb3302442a81c11375c90f753a",
    "tags": [],
    "deepnote_to_be_reexecuted": false,
    "source_hash": "fbd048c",
    "execution_start": 1662736517712,
    "execution_millis": 454,
    "deepnote_cell_type": "code",
    "deepnote_cell_height": 265.6875,
    "deepnote_output_heights": [
     173.6875
    ]
   },
   "outputs": [
    {
     "output_type": "execute_result",
     "execution_count": 23,
     "data": {
      "text/plain": "count    6.723000e+03\nmean     4.432062e+04\nstd      1.219554e+06\nmin      7.000000e+00\n25%      5.400000e+02\n50%      4.432062e+04\n75%      4.432062e+04\nmax      1.000111e+08\nName: max_price, dtype: float64"
     },
     "metadata": {}
    }
   ],
   "execution_count": 23
  },
  {
   "cell_type": "code",
   "source": "%cd '~/work'\n%mkdir 'db'",
   "metadata": {
    "cell_id": "b3bb14e3f9f7449997931fffc9e2f123",
    "tags": [],
    "deepnote_to_be_reexecuted": false,
    "source_hash": "ac21075d",
    "execution_start": 1662736647659,
    "execution_millis": 624,
    "deepnote_cell_type": "code",
    "deepnote_cell_height": 125.1875
   },
   "outputs": [
    {
     "name": "stdout",
     "text": "/\n",
     "output_type": "stream"
    }
   ],
   "execution_count": 26
  },
  {
   "cell_type": "code",
   "source": "dir_pandas = '~/work/db/{}'.format('CleanedRestaurantList_TripAdvisor.csv')\ndir_pandas",
   "metadata": {
    "cell_id": "15b422fc7b1145debf3314e1d7a7da7f",
    "tags": [],
    "deepnote_to_be_reexecuted": false,
    "source_hash": "1ddbf9f4",
    "execution_start": 1662736651570,
    "execution_millis": 11,
    "deepnote_cell_type": "code",
    "deepnote_cell_height": 130.1875,
    "deepnote_output_heights": [
     20.1875
    ]
   },
   "outputs": [
    {
     "output_type": "execute_result",
     "execution_count": 27,
     "data": {
      "text/plain": "'~/work/db/CleanedRestaurantList_TripAdvisor.csv'"
     },
     "metadata": {}
    }
   ],
   "execution_count": 27
  },
  {
   "cell_type": "code",
   "source": "df.to_csv(dir_pandas, index=True)\n",
   "metadata": {
    "cell_id": "64150982dc6e4c4d9c14f9d037db00e9",
    "tags": [],
    "deepnote_to_be_reexecuted": false,
    "source_hash": "a6fb318c",
    "execution_start": 1662736654114,
    "execution_millis": 109,
    "deepnote_cell_type": "code",
    "deepnote_cell_height": 94
   },
   "outputs": [],
   "execution_count": 28
  },
  {
   "cell_type": "markdown",
   "source": "<a style='text-decoration:none;line-height:16px;display:flex;color:#5B5B62;padding:10px;justify-content:end;' href='https://deepnote.com?utm_source=created-in-deepnote-cell&projectId=1fb563c0-3c4e-4849-a6dd-61947eda0562' target=\"_blank\">\n<img alt='Created in deepnote.com' style='display:inline;max-height:16px;margin:0px;margin-right:7.5px;' src='data:image/svg+xml;base64,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' > </img>\nCreated in <span style='font-weight:600;margin-left:4px;'>Deepnote</span></a>",
   "metadata": {
    "tags": [],
    "created_in_deepnote_cell": true,
    "deepnote_cell_type": "markdown"
   }
  }
 ],
 "nbformat": 4,
 "nbformat_minor": 2,
 "metadata": {
  "orig_nbformat": 2,
  "deepnote": {},
  "deepnote_notebook_id": "5b8293b7-34ca-4718-ba28-ed083b43b690",
  "deepnote_execution_queue": [],
  "deepnote_persisted_session": {
   "createdAt": "2022-09-09T14:17:05.524Z"
  }
 }
}