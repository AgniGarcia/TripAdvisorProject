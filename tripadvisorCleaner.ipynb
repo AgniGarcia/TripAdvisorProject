{
 "cells": [
  {
   "cell_type": "code",
   "metadata": {
    "tags": [],
    "cell_id": "e6f760b5-96f2-487c-82c0-cb65243daa90",
    "deepnote_to_be_reexecuted": false,
    "source_hash": "b8baa560",
    "execution_start": 1662989457091,
    "execution_millis": 2,
    "deepnote_cell_type": "code",
    "deepnote_cell_height": 148
   },
   "source": "import pandas as pd\nimport seaborn as sns\nimport numpy as np\nimport matplotlib.pyplot as plt\nfrom random import randrange",
   "execution_count": null,
   "outputs": []
  },
  {
   "cell_type": "code",
   "metadata": {
    "cell_id": "f3dcb7fc8e8441968fef6b45bf4b9a4e",
    "tags": [],
    "deepnote_to_be_reexecuted": true,
    "source_hash": "da7db5c6",
    "execution_start": 1662837383331,
    "execution_millis": 0,
    "deepnote_cell_type": "code",
    "deepnote_cell_height": 76
   },
   "source": "df = pd.read_csv('tripadvisor_restaurants.csv')",
   "execution_count": null,
   "outputs": []
  },
  {
   "cell_type": "code",
   "metadata": {
    "cell_id": "484bf69652a742fe86c1bd38e64e1674",
    "tags": [],
    "deepnote_to_be_reexecuted": true,
    "source_hash": "52430027",
    "execution_start": 1662837036868,
    "execution_millis": 2,
    "deepnote_cell_type": "code",
    "deepnote_cell_height": 323.25,
    "deepnote_output_heights": [
     231.25
    ]
   },
   "source": "df.dtypes",
   "execution_count": null,
   "outputs": [
    {
     "output_type": "execute_result",
     "execution_count": 179,
     "data": {
      "text/plain": "address             object\ndomain              object\nextracted_date      object\nfood_category       object\nfood_types          object\nlink                object\nopinions            object\nmin_price           object\nmax_price          float64\nrating             float64\nrestaurant_name     object\ndtype: object"
     },
     "metadata": {}
    }
   ]
  },
  {
   "cell_type": "code",
   "metadata": {
    "cell_id": "bde01be7994e463f98fae2a467940f60",
    "tags": [],
    "deepnote_to_be_reexecuted": true,
    "source_hash": "f30f989a",
    "execution_start": 1662837763323,
    "execution_millis": 555,
    "deepnote_table_state": {
     "pageSize": 100,
     "pageIndex": 0,
     "filters": [],
     "sortBy": []
    },
    "deepnote_table_loading": false,
    "deepnote_cell_type": "code",
    "deepnote_cell_height": 390
   },
   "source": "df.head(10)",
   "execution_count": null,
   "outputs": [
    {
     "output_type": "execute_result",
     "execution_count": 196,
     "data": {
      "application/vnd.deepnote.dataframe.v3+json": {
       "column_count": 11,
       "row_count": 10,
       "columns": [
        {
         "name": "address",
         "dtype": "object",
         "stats": {
          "unique_count": 10,
          "nan_count": 0,
          "categories": [
           {
            "name": "Avenida Emilio Castelar 44, Ciudad de M̩xico 11000 M̩xico",
            "count": 1
           },
           {
            "name": "AVENIDA SANTA FE 160 AVENIDA SANTA FE 160, Ciudad de M̩xico 01376 M̩xico",
            "count": 1
           },
           {
            "name": "8 others",
            "count": 8
           }
          ]
         }
        },
        {
         "name": "domain",
         "dtype": "object",
         "stats": {
          "unique_count": 1,
          "nan_count": 0,
          "categories": [
           {
            "name": "www.tripadvisor.com.mx",
            "count": 10
           }
          ]
         }
        },
        {
         "name": "extracted_date",
         "dtype": "object",
         "stats": {
          "unique_count": 1,
          "nan_count": 0,
          "categories": [
           {
            "name": "08/09/22 17:49",
            "count": 10
           }
          ]
         }
        },
        {
         "name": "food_category",
         "dtype": "object",
         "stats": {
          "unique_count": 10,
          "nan_count": 0,
          "categories": [
           {
            "name": "Almuerzo, Cena, Bebidas",
            "count": 1
           },
           {
            "name": "Italiana, Mediterr��nea, Europea, Saludable, Toscana, Romana, De Lacio, Siciliana, Del centro italiano, Del sur italiano",
            "count": 1
           },
           {
            "name": "8 others",
            "count": 8
           }
          ]
         }
        },
        {
         "name": "food_types",
         "dtype": "object",
         "stats": {
          "unique_count": 8,
          "nan_count": 1,
          "categories": [
           {
            "name": "Opciones sin gluten",
            "count": 2
           },
           {
            "name": "7 others",
            "count": 7
           },
           {
            "name": "Missing",
            "count": 1
           }
          ]
         }
        },
        {
         "name": "link",
         "dtype": "object",
         "stats": {
          "unique_count": 10,
          "nan_count": 0,
          "categories": [
           {
            "name": "https://www.tripadvisor.com.mx/Restaurant_Review-g150800-d24093482-Reviews-Pardela-Mexico_City_Central_Mexico_and_Gulf_Coast.html",
            "count": 1
           },
           {
            "name": "https://www.tripadvisor.com.mx/Restaurant_Review-g150800-d4035248-Reviews-Quattro-Mexico_City_Central_Mexico_and_Gulf_Coast.html",
            "count": 1
           },
           {
            "name": "8 others",
            "count": 8
           }
          ]
         }
        },
        {
         "name": "opinions",
         "dtype": "object",
         "stats": {
          "unique_count": 9,
          "nan_count": 1,
          "categories": [
           {
            "name": "2",
            "count": 1
           },
           {
            "name": "8 others",
            "count": 8
           },
           {
            "name": "Missing",
            "count": 1
           }
          ]
         }
        },
        {
         "name": "min_price",
         "dtype": "float64",
         "stats": {
          "unique_count": 7,
          "nan_count": 0,
          "min": "144.0",
          "max": "1200.0",
          "histogram": [
           {
            "bin_start": 144,
            "bin_end": 249.6,
            "count": 4
           },
           {
            "bin_start": 249.6,
            "bin_end": 355.2,
            "count": 1
           },
           {
            "bin_start": 355.2,
            "bin_end": 460.79999999999995,
            "count": 1
           },
           {
            "bin_start": 460.79999999999995,
            "bin_end": 566.4,
            "count": 1
           },
           {
            "bin_start": 566.4,
            "bin_end": 672,
            "count": 1
           },
           {
            "bin_start": 672,
            "bin_end": 777.5999999999999,
            "count": 1
           },
           {
            "bin_start": 777.5999999999999,
            "bin_end": 883.1999999999999,
            "count": 0
           },
           {
            "bin_start": 883.1999999999999,
            "bin_end": 988.8,
            "count": 0
           },
           {
            "bin_start": 988.8,
            "bin_end": 1094.4,
            "count": 0
           },
           {
            "bin_start": 1094.4,
            "bin_end": 1200,
            "count": 1
           }
          ]
         }
        },
        {
         "name": "max_price",
         "dtype": "float64",
         "stats": {
          "unique_count": 7,
          "nan_count": 0,
          "min": "363.8681536135975",
          "max": "1800.0",
          "histogram": [
           {
            "bin_start": 363.8681536135975,
            "bin_end": 507.4813382522377,
            "count": 4
           },
           {
            "bin_start": 507.4813382522377,
            "bin_end": 651.0945228908779,
            "count": 1
           },
           {
            "bin_start": 651.0945228908779,
            "bin_end": 794.7077075295182,
            "count": 0
           },
           {
            "bin_start": 794.7077075295182,
            "bin_end": 938.3208921681585,
            "count": 2
           },
           {
            "bin_start": 938.3208921681585,
            "bin_end": 1081.9340768067987,
            "count": 1
           },
           {
            "bin_start": 1081.9340768067987,
            "bin_end": 1225.5472614454388,
            "count": 0
           },
           {
            "bin_start": 1225.5472614454388,
            "bin_end": 1369.1604460840792,
            "count": 0
           },
           {
            "bin_start": 1369.1604460840792,
            "bin_end": 1512.7736307227194,
            "count": 1
           },
           {
            "bin_start": 1512.7736307227194,
            "bin_end": 1656.3868153613596,
            "count": 0
           },
           {
            "bin_start": 1656.3868153613596,
            "bin_end": 1800,
            "count": 1
           }
          ]
         }
        },
        {
         "name": "rating",
         "dtype": "float64",
         "stats": {
          "unique_count": 2,
          "nan_count": 1,
          "min": "4.5",
          "max": "5.0",
          "histogram": [
           {
            "bin_start": 4.5,
            "bin_end": 4.55,
            "count": 1
           },
           {
            "bin_start": 4.55,
            "bin_end": 4.6,
            "count": 0
           },
           {
            "bin_start": 4.6,
            "bin_end": 4.65,
            "count": 0
           },
           {
            "bin_start": 4.65,
            "bin_end": 4.7,
            "count": 0
           },
           {
            "bin_start": 4.7,
            "bin_end": 4.75,
            "count": 0
           },
           {
            "bin_start": 4.75,
            "bin_end": 4.8,
            "count": 0
           },
           {
            "bin_start": 4.8,
            "bin_end": 4.85,
            "count": 0
           },
           {
            "bin_start": 4.85,
            "bin_end": 4.9,
            "count": 0
           },
           {
            "bin_start": 4.9,
            "bin_end": 4.95,
            "count": 0
           },
           {
            "bin_start": 4.95,
            "bin_end": 5,
            "count": 8
           }
          ]
         }
        },
        {
         "name": "restaurant_name",
         "dtype": "object",
         "stats": {
          "unique_count": 10,
          "nan_count": 0,
          "categories": [
           {
            "name": "Pardela",
            "count": 1
           },
           {
            "name": "Quattro Gastronom�_a Italiana",
            "count": 1
           },
           {
            "name": "8 others",
            "count": 8
           }
          ]
         }
        },
        {
         "name": "_deepnote_index_column",
         "dtype": "int64"
        }
       ],
       "rows": [
        {
         "address": "Avenida Emilio Castelar 44, Ciudad de M̩xico 11000 M̩xico",
         "domain": "www.tripadvisor.com.mx",
         "extracted_date": "08/09/22 17:49",
         "food_category": "Almuerzo, Cena, Bebidas",
         "food_types": "Vino y cerveza, Servicio de mesa",
         "link": "https://www.tripadvisor.com.mx/Restaurant_Review-g150800-d24093482-Reviews-Pardela-Mexico_City_Central_Mexico_and_Gulf_Coast.html",
         "opinions": "2",
         "min_price": "144.0",
         "max_price": "363.8681536135975",
         "rating": "5.0",
         "restaurant_name": "Pardela",
         "_deepnote_index_column": "0"
        },
        {
         "address": "AVENIDA SANTA FE 160 AVENIDA SANTA FE 160, Ciudad de M̩xico 01376 M̩xico",
         "domain": "www.tripadvisor.com.mx",
         "extracted_date": "08/09/22 17:49",
         "food_category": "Italiana, Mediterr��nea, Europea, Saludable, Toscana, Romana, De Lacio, Siciliana, Del centro italiano, Del sur italiano",
         "food_types": "Apto para vegetarianos, Opciones veganas, Opciones sin gluten",
         "link": "https://www.tripadvisor.com.mx/Restaurant_Review-g150800-d4035248-Reviews-Quattro-Mexico_City_Central_Mexico_and_Gulf_Coast.html",
         "opinions": "741",
         "min_price": "402.0",
         "max_price": "1004.0",
         "rating": "5.0",
         "restaurant_name": "Quattro Gastronom�_a Italiana",
         "_deepnote_index_column": "1"
        },
        {
         "address": "Avenida Paseo de La Reforma 297 Sofitel Mexico City, Ciudad de M̩xico 06500 M̩xico",
         "domain": "www.tripadvisor.com.mx",
         "extracted_date": "08/09/22 17:49",
         "food_category": "Desayuno, Almuerzo, Brunch",
         "food_types": "Reservaciones, Asiento, Sirve alcohol, Bar completo, Acepta tarjetas de cr̩dito, Servicio de mesa",
         "link": "https://www.tripadvisor.com.mx/Restaurant_Review-g150800-d20295948-Reviews-Cityzen_Rooftop_Kitchen-Mexico_City_Central_Mexico_and_Gulf_Coast.html",
         "opinions": "1,080",
         "min_price": "144.0",
         "max_price": "363.8681536135975",
         "rating": "5.0",
         "restaurant_name": "Cityzen Rooftop Kitchen",
         "_deepnote_index_column": "2"
        },
        {
         "address": "Calzada Acoxpa # 610 Centro Comercial Gran Terraza Coapa locales 101,102,103, Ciudad de M̩xico 14390 M̩xico",
         "domain": "www.tripadvisor.com.mx",
         "extracted_date": "08/09/22 17:49",
         "food_category": "Mexicana, Parrilla, Contempor��nea",
         "food_types": "Almuerzo, Cena, Brunch, Abierto hasta tarde, Bebidas",
         "link": "https://www.tripadvisor.com.mx/Restaurant_Review-g150800-d19078418-Reviews-Porfirio_s_Coapa-Mexico_City_Central_Mexico_and_Gulf_Coast.html",
         "opinions": "643",
         "min_price": "250.0",
         "max_price": "600.0",
         "rating": "5.0",
         "restaurant_name": "Porfirio's Coapa",
         "_deepnote_index_column": "3"
        },
        {
         "address": "Calle Goldsmith Polanco III Secc. 66 Miguel Hidalgo, Ciudad de M̩xico 11540 M̩xico",
         "domain": "www.tripadvisor.com.mx",
         "extracted_date": "08/09/22 17:49",
         "food_category": "Asi��tica, Tailandesa, Coreana, Fusi�_n",
         "food_types": "Apto para vegetarianos",
         "link": "https://www.tripadvisor.com.mx/Restaurant_Review-g150800-d20158337-Reviews-KYU_MEXICO-Mexico_City_Central_Mexico_and_Gulf_Coast.html",
         "opinions": "373",
         "min_price": "1200.0",
         "max_price": "1800.0",
         "rating": "5.0",
         "restaurant_name": "KYU M��XICO",
         "_deepnote_index_column": "4"
        },
        {
         "address": "Av. Presidente Masaryk 294, Colonia Polanco IV, Ciudad de M̩xico 11550 M̩xico",
         "domain": "www.tripadvisor.com.mx",
         "extracted_date": "08/09/22 17:49",
         "food_category": "Mariscos, Mediterr��nea, Internacional, Contempor��nea",
         "food_types": "Opciones sin gluten",
         "link": "https://www.tripadvisor.com.mx/Restaurant_Review-g150800-d19246233-Reviews-Taboo_Polanco-Mexico_City_Central_Mexico_and_Gulf_Coast.html",
         "opinions": "693",
         "min_price": "601.0",
         "max_price": "801.0",
         "rating": "5.0",
         "restaurant_name": "Taboo Polanco",
         "_deepnote_index_column": "5"
        },
        {
         "address": "Tonala 144 Roma Norte Primer Piso, Ciudad de M̩xico 06700 M̩xico",
         "domain": "www.tripadvisor.com.mx",
         "extracted_date": "08/09/22 17:49",
         "food_category": "Almuerzo, Cena",
         "food_types": "nan",
         "link": "https://www.tripadvisor.com.mx/Restaurant_Review-g150800-d24192705-Reviews-Sake_Sushi_Bar_Roma-Mexico_City_Central_Mexico_and_Gulf_Coast.html",
         "opinions": "nan",
         "min_price": "144.0",
         "max_price": "363.8681536135975",
         "rating": "nan",
         "restaurant_name": "Sake Sushi Bar ( Roma )",
         "_deepnote_index_column": "6"
        },
        {
         "address": "Avenida Miguel Angel de Quevedo 227 Plaza Oasis, Ciudad de M̩xico 04310 M̩xico",
         "domain": "www.tripadvisor.com.mx",
         "extracted_date": "08/09/22 17:49",
         "food_category": "Argentina, Internacional, Parrilla, Contempor��nea",
         "food_types": "Opciones sin gluten",
         "link": "https://www.tripadvisor.com.mx/Restaurant_Review-g150800-d10330947-Reviews-Cambalache_Plaza_Oasis-Mexico_City_Central_Mexico_and_Gulf_Coast.html",
         "opinions": "760",
         "min_price": "500.0",
         "max_price": "800.0",
         "rating": "4.5",
         "restaurant_name": "Cambalache Plaza Oasis",
         "_deepnote_index_column": "7"
        },
        {
         "address": "Avenida Presidente Masaryk, 311 Polanco, Ciudad de M̩xico 11550 M̩xico",
         "domain": "www.tripadvisor.com.mx",
         "extracted_date": "08/09/22 17:49",
         "food_category": "Bar, Mediterr��nea, Griega",
         "food_types": "Almuerzo, Cena, Abierto hasta tarde, Bebidas",
         "link": "https://www.tripadvisor.com.mx/Restaurant_Review-g150800-d23653334-Reviews-Ilios_Greek_Estiatorio_Polanco-Mexico_City_Central_Mexico_and_Gulf_Coast.html",
         "opinions": "396",
         "min_price": "700.0",
         "max_price": "1500.0",
         "rating": "5.0",
         "restaurant_name": "Ilios Greek Estiatorio Polanco",
         "_deepnote_index_column": "8"
        },
        {
         "address": "Calle Juan Sanchez Azcona No. 529 Esq. Diagonal San Antonio, Col. Narvarte, Ciudad de M̩xico 03020 M̩xico",
         "domain": "www.tripadvisor.com.mx",
         "extracted_date": "08/09/22 17:49",
         "food_category": "Apto para vegetarianos, Opciones sin gluten",
         "food_types": "Almuerzo, Cena",
         "link": "https://www.tripadvisor.com.mx/Restaurant_Review-g150800-d8288826-Reviews-Sonora_Grill_Narvarte-Mexico_City_Central_Mexico_and_Gulf_Coast.html",
         "opinions": "404",
         "min_price": "144.0",
         "max_price": "363.8681536135975",
         "rating": "5.0",
         "restaurant_name": "Sonora Grill Narvarte",
         "_deepnote_index_column": "9"
        }
       ]
      },
      "text/plain": "                                             address                  domain  \\\n0  Avenida Emilio Castelar 44, Ciudad de M̩xico 1...  www.tripadvisor.com.mx   \n1  AVENIDA SANTA FE 160 AVENIDA SANTA FE 160, Ciu...  www.tripadvisor.com.mx   \n2  Avenida Paseo de La Reforma 297 Sofitel Mexico...  www.tripadvisor.com.mx   \n3  Calzada Acoxpa # 610 Centro Comercial Gran Ter...  www.tripadvisor.com.mx   \n4  Calle Goldsmith Polanco III Secc. 66 Miguel Hi...  www.tripadvisor.com.mx   \n5  Av. Presidente Masaryk 294, Colonia Polanco IV...  www.tripadvisor.com.mx   \n6  Tonala 144 Roma Norte Primer Piso, Ciudad de M...  www.tripadvisor.com.mx   \n7  Avenida Miguel Angel de Quevedo 227 Plaza Oasi...  www.tripadvisor.com.mx   \n8  Avenida Presidente Masaryk, 311 Polanco, Ciuda...  www.tripadvisor.com.mx   \n9  Calle Juan Sanchez Azcona No. 529 Esq. Diagona...  www.tripadvisor.com.mx   \n\n   extracted_date                                      food_category  \\\n0  08/09/22 17:49                            Almuerzo, Cena, Bebidas   \n1  08/09/22 17:49  Italiana, Mediterr��nea, Europea, Saludable, T...   \n2  08/09/22 17:49                         Desayuno, Almuerzo, Brunch   \n3  08/09/22 17:49                 Mexicana, Parrilla, Contempor��nea   \n4  08/09/22 17:49            Asi��tica, Tailandesa, Coreana, Fusi�_n   \n5  08/09/22 17:49  Mariscos, Mediterr��nea, Internacional, Contem...   \n6  08/09/22 17:49                                     Almuerzo, Cena   \n7  08/09/22 17:49  Argentina, Internacional, Parrilla, Contempor�...   \n8  08/09/22 17:49                         Bar, Mediterr��nea, Griega   \n9  08/09/22 17:49        Apto para vegetarianos, Opciones sin gluten   \n\n                                          food_types  \\\n0                   Vino y cerveza, Servicio de mesa   \n1  Apto para vegetarianos, Opciones veganas, Opci...   \n2  Reservaciones, Asiento, Sirve alcohol, Bar com...   \n3  Almuerzo, Cena, Brunch, Abierto hasta tarde, B...   \n4                             Apto para vegetarianos   \n5                                Opciones sin gluten   \n6                                                NaN   \n7                                Opciones sin gluten   \n8       Almuerzo, Cena, Abierto hasta tarde, Bebidas   \n9                                     Almuerzo, Cena   \n\n                                                link opinions  min_price  \\\n0  https://www.tripadvisor.com.mx/Restaurant_Revi...        2      144.0   \n1  https://www.tripadvisor.com.mx/Restaurant_Revi...      741      402.0   \n2  https://www.tripadvisor.com.mx/Restaurant_Revi...    1,080      144.0   \n3  https://www.tripadvisor.com.mx/Restaurant_Revi...      643      250.0   \n4  https://www.tripadvisor.com.mx/Restaurant_Revi...      373     1200.0   \n5  https://www.tripadvisor.com.mx/Restaurant_Revi...      693      601.0   \n6  https://www.tripadvisor.com.mx/Restaurant_Revi...      NaN      144.0   \n7  https://www.tripadvisor.com.mx/Restaurant_Revi...      760      500.0   \n8  https://www.tripadvisor.com.mx/Restaurant_Revi...      396      700.0   \n9  https://www.tripadvisor.com.mx/Restaurant_Revi...      404      144.0   \n\n     max_price  rating                 restaurant_name  \n0   363.868154     5.0                         Pardela  \n1  1004.000000     5.0   Quattro Gastronom�_a Italiana  \n2   363.868154     5.0         Cityzen Rooftop Kitchen  \n3   600.000000     5.0                Porfirio's Coapa  \n4  1800.000000     5.0                     KYU M��XICO  \n5   801.000000     5.0                   Taboo Polanco  \n6   363.868154     NaN         Sake Sushi Bar ( Roma )  \n7   800.000000     4.5          Cambalache Plaza Oasis  \n8  1500.000000     5.0  Ilios Greek Estiatorio Polanco  \n9   363.868154     5.0           Sonora Grill Narvarte  ",
      "text/html": "<div>\n<style scoped>\n    .dataframe tbody tr th:only-of-type {\n        vertical-align: middle;\n    }\n\n    .dataframe tbody tr th {\n        vertical-align: top;\n    }\n\n    .dataframe thead th {\n        text-align: right;\n    }\n</style>\n<table border=\"1\" class=\"dataframe\">\n  <thead>\n    <tr style=\"text-align: right;\">\n      <th></th>\n      <th>address</th>\n      <th>domain</th>\n      <th>extracted_date</th>\n      <th>food_category</th>\n      <th>food_types</th>\n      <th>link</th>\n      <th>opinions</th>\n      <th>min_price</th>\n      <th>max_price</th>\n      <th>rating</th>\n      <th>restaurant_name</th>\n    </tr>\n  </thead>\n  <tbody>\n    <tr>\n      <th>0</th>\n      <td>Avenida Emilio Castelar 44, Ciudad de M̩xico 1...</td>\n      <td>www.tripadvisor.com.mx</td>\n      <td>08/09/22 17:49</td>\n      <td>Almuerzo, Cena, Bebidas</td>\n      <td>Vino y cerveza, Servicio de mesa</td>\n      <td>https://www.tripadvisor.com.mx/Restaurant_Revi...</td>\n      <td>2</td>\n      <td>144.0</td>\n      <td>363.868154</td>\n      <td>5.0</td>\n      <td>Pardela</td>\n    </tr>\n    <tr>\n      <th>1</th>\n      <td>AVENIDA SANTA FE 160 AVENIDA SANTA FE 160, Ciu...</td>\n      <td>www.tripadvisor.com.mx</td>\n      <td>08/09/22 17:49</td>\n      <td>Italiana, Mediterr��nea, Europea, Saludable, T...</td>\n      <td>Apto para vegetarianos, Opciones veganas, Opci...</td>\n      <td>https://www.tripadvisor.com.mx/Restaurant_Revi...</td>\n      <td>741</td>\n      <td>402.0</td>\n      <td>1004.000000</td>\n      <td>5.0</td>\n      <td>Quattro Gastronom�_a Italiana</td>\n    </tr>\n    <tr>\n      <th>2</th>\n      <td>Avenida Paseo de La Reforma 297 Sofitel Mexico...</td>\n      <td>www.tripadvisor.com.mx</td>\n      <td>08/09/22 17:49</td>\n      <td>Desayuno, Almuerzo, Brunch</td>\n      <td>Reservaciones, Asiento, Sirve alcohol, Bar com...</td>\n      <td>https://www.tripadvisor.com.mx/Restaurant_Revi...</td>\n      <td>1,080</td>\n      <td>144.0</td>\n      <td>363.868154</td>\n      <td>5.0</td>\n      <td>Cityzen Rooftop Kitchen</td>\n    </tr>\n    <tr>\n      <th>3</th>\n      <td>Calzada Acoxpa # 610 Centro Comercial Gran Ter...</td>\n      <td>www.tripadvisor.com.mx</td>\n      <td>08/09/22 17:49</td>\n      <td>Mexicana, Parrilla, Contempor��nea</td>\n      <td>Almuerzo, Cena, Brunch, Abierto hasta tarde, B...</td>\n      <td>https://www.tripadvisor.com.mx/Restaurant_Revi...</td>\n      <td>643</td>\n      <td>250.0</td>\n      <td>600.000000</td>\n      <td>5.0</td>\n      <td>Porfirio's Coapa</td>\n    </tr>\n    <tr>\n      <th>4</th>\n      <td>Calle Goldsmith Polanco III Secc. 66 Miguel Hi...</td>\n      <td>www.tripadvisor.com.mx</td>\n      <td>08/09/22 17:49</td>\n      <td>Asi��tica, Tailandesa, Coreana, Fusi�_n</td>\n      <td>Apto para vegetarianos</td>\n      <td>https://www.tripadvisor.com.mx/Restaurant_Revi...</td>\n      <td>373</td>\n      <td>1200.0</td>\n      <td>1800.000000</td>\n      <td>5.0</td>\n      <td>KYU M��XICO</td>\n    </tr>\n    <tr>\n      <th>5</th>\n      <td>Av. Presidente Masaryk 294, Colonia Polanco IV...</td>\n      <td>www.tripadvisor.com.mx</td>\n      <td>08/09/22 17:49</td>\n      <td>Mariscos, Mediterr��nea, Internacional, Contem...</td>\n      <td>Opciones sin gluten</td>\n      <td>https://www.tripadvisor.com.mx/Restaurant_Revi...</td>\n      <td>693</td>\n      <td>601.0</td>\n      <td>801.000000</td>\n      <td>5.0</td>\n      <td>Taboo Polanco</td>\n    </tr>\n    <tr>\n      <th>6</th>\n      <td>Tonala 144 Roma Norte Primer Piso, Ciudad de M...</td>\n      <td>www.tripadvisor.com.mx</td>\n      <td>08/09/22 17:49</td>\n      <td>Almuerzo, Cena</td>\n      <td>NaN</td>\n      <td>https://www.tripadvisor.com.mx/Restaurant_Revi...</td>\n      <td>NaN</td>\n      <td>144.0</td>\n      <td>363.868154</td>\n      <td>NaN</td>\n      <td>Sake Sushi Bar ( Roma )</td>\n    </tr>\n    <tr>\n      <th>7</th>\n      <td>Avenida Miguel Angel de Quevedo 227 Plaza Oasi...</td>\n      <td>www.tripadvisor.com.mx</td>\n      <td>08/09/22 17:49</td>\n      <td>Argentina, Internacional, Parrilla, Contempor�...</td>\n      <td>Opciones sin gluten</td>\n      <td>https://www.tripadvisor.com.mx/Restaurant_Revi...</td>\n      <td>760</td>\n      <td>500.0</td>\n      <td>800.000000</td>\n      <td>4.5</td>\n      <td>Cambalache Plaza Oasis</td>\n    </tr>\n    <tr>\n      <th>8</th>\n      <td>Avenida Presidente Masaryk, 311 Polanco, Ciuda...</td>\n      <td>www.tripadvisor.com.mx</td>\n      <td>08/09/22 17:49</td>\n      <td>Bar, Mediterr��nea, Griega</td>\n      <td>Almuerzo, Cena, Abierto hasta tarde, Bebidas</td>\n      <td>https://www.tripadvisor.com.mx/Restaurant_Revi...</td>\n      <td>396</td>\n      <td>700.0</td>\n      <td>1500.000000</td>\n      <td>5.0</td>\n      <td>Ilios Greek Estiatorio Polanco</td>\n    </tr>\n    <tr>\n      <th>9</th>\n      <td>Calle Juan Sanchez Azcona No. 529 Esq. Diagona...</td>\n      <td>www.tripadvisor.com.mx</td>\n      <td>08/09/22 17:49</td>\n      <td>Apto para vegetarianos, Opciones sin gluten</td>\n      <td>Almuerzo, Cena</td>\n      <td>https://www.tripadvisor.com.mx/Restaurant_Revi...</td>\n      <td>404</td>\n      <td>144.0</td>\n      <td>363.868154</td>\n      <td>5.0</td>\n      <td>Sonora Grill Narvarte</td>\n    </tr>\n  </tbody>\n</table>\n</div>"
     },
     "metadata": {}
    }
   ]
  },
  {
   "cell_type": "code",
   "metadata": {
    "cell_id": "30eb419ef1af4bfe885a399aac019d02",
    "tags": [],
    "deepnote_to_be_reexecuted": true,
    "source_hash": "bb202a6b",
    "execution_start": 1662837387256,
    "execution_millis": 4,
    "deepnote_cell_type": "code",
    "deepnote_cell_height": 148
   },
   "source": "# Transforming min_price and max_price to float type \ndf['min_price'] = pd.to_numeric(df['min_price'], errors='coerce')\n#df['max_price'] = pd.to_numeric(df['max_price'], errors='coerce')\n\n",
   "execution_count": null,
   "outputs": []
  },
  {
   "cell_type": "code",
   "metadata": {
    "cell_id": "a8a1fda88ea24ac486bf6fce68dab243",
    "tags": [],
    "deepnote_to_be_reexecuted": true,
    "source_hash": "d4c3324e",
    "execution_start": 1662835151096,
    "execution_millis": 5,
    "deepnote_cell_type": "code",
    "deepnote_cell_height": 184
   },
   "source": "# Creating instances for mean and median of prices\nmin_price_mean = df['min_price'].mean()\nmax_price_median = df['max_price'].median()\n# Creating mode variables decidind to fill na with these\nmax_price_mode = df['max_price'].mode()\nmin_price_mode = df['min_price'].mode() \nprint(min_price_mode, max_price_median)",
   "execution_count": null,
   "outputs": [
    {
     "name": "stdout",
     "text": "0    100.0\ndtype: float64 300.0\n",
     "output_type": "stream"
    }
   ]
  },
  {
   "cell_type": "code",
   "metadata": {
    "cell_id": "ce6dd75b7f0645dc9139763d9ca9dc32",
    "tags": [],
    "deepnote_to_be_reexecuted": true,
    "source_hash": "27c8d1cc",
    "execution_start": 1662837757686,
    "execution_millis": 0,
    "deepnote_cell_type": "code",
    "deepnote_cell_height": 79
   },
   "source": "# Replacing values with mode st\ndf['max_price'].fillna(random.uniform(300,370), inplace=True)",
   "execution_count": null,
   "outputs": []
  },
  {
   "cell_type": "code",
   "metadata": {
    "cell_id": "bdb5c6334b764dc8acf76c8943502697",
    "tags": [],
    "deepnote_to_be_reexecuted": true,
    "source_hash": "e02d31f6",
    "execution_start": 1662837697935,
    "execution_millis": 0,
    "deepnote_cell_type": "code",
    "deepnote_cell_height": 61
   },
   "source": "df['min_price'].fillna(random.randrange(100,150), inplace=True)",
   "execution_count": null,
   "outputs": []
  },
  {
   "cell_type": "code",
   "metadata": {
    "cell_id": "1ad7f5c09e2b4936ba3236e280348bdc",
    "tags": [],
    "deepnote_to_be_reexecuted": true,
    "source_hash": "eb157ca7",
    "execution_start": 1662834958811,
    "execution_millis": 3,
    "deepnote_cell_type": "code",
    "deepnote_cell_height": 130
   },
   "source": "df['min_price'] = df['min_price'].fillna(min_price_mode, inplace=True)\n\ndf['max_price'] = df['max_price'].fillna(max_price_mode, inplace=True)\n",
   "execution_count": null,
   "outputs": []
  },
  {
   "cell_type": "code",
   "metadata": {
    "cell_id": "af8a8f310bca47e0b29dd0c0ea58d243",
    "tags": [],
    "deepnote_to_be_reexecuted": true,
    "source_hash": "ffd33ee1",
    "execution_start": 1662736127219,
    "execution_millis": 2,
    "deepnote_cell_type": "code",
    "deepnote_cell_height": 99
   },
   "source": "# Replacing unnormal characters\ndf['min_price'] = df['min_price'].replace('n a, Cont n a, , , Fusi _n,',' ', regex=True)",
   "execution_count": null,
   "outputs": []
  },
  {
   "cell_type": "code",
   "metadata": {
    "cell_id": "a1d43986abc348a48e163cac096c91e0",
    "tags": [],
    "deepnote_to_be_reexecuted": true,
    "source_hash": "cf0fbe78",
    "execution_start": 1662831585607,
    "execution_millis": 0,
    "deepnote_cell_type": "code",
    "deepnote_cell_height": 79
   },
   "source": "# Practice create/drop new columns\ndf.drop('Nueva Columna',axis=1, inplace=True)",
   "execution_count": null,
   "outputs": []
  },
  {
   "cell_type": "code",
   "metadata": {
    "cell_id": "370b15e3b45043f58bf08f674a216abb",
    "tags": [],
    "deepnote_to_be_reexecuted": true,
    "source_hash": "709b9360",
    "execution_start": 1662833281272,
    "execution_millis": 2,
    "deepnote_cell_type": "code",
    "deepnote_cell_height": 61
   },
   "source": "df['max_price'] = df['max_price'].dropna(axis=0,inplace=True)",
   "execution_count": null,
   "outputs": []
  },
  {
   "cell_type": "code",
   "metadata": {
    "cell_id": "1a9ed8d7fe57405b9e892e7502f8fa9b",
    "tags": [],
    "deepnote_to_be_reexecuted": true,
    "source_hash": "11208b1b",
    "execution_start": 1662838230714,
    "execution_millis": 4,
    "deepnote_cell_type": "code",
    "deepnote_cell_height": 61
   },
   "source": "df['min_price'].isnull().sum()",
   "execution_count": null,
   "outputs": [
    {
     "output_type": "execute_result",
     "execution_count": 198,
     "data": {
      "text/plain": "0"
     },
     "metadata": {}
    }
   ]
  },
  {
   "cell_type": "code",
   "metadata": {
    "cell_id": "86947d83da744d55abc7fdf2d0b70e74",
    "tags": [],
    "deepnote_to_be_reexecuted": true,
    "source_hash": "82801c77",
    "execution_start": 1662832525481,
    "execution_millis": 8,
    "deepnote_cell_type": "code",
    "deepnote_cell_height": 97
   },
   "source": "# Changing nan by interpolation doesnt work for analysis\ndf['min_price'] = df['min_price'].interpolate()\ndf['min_price'].mean()",
   "execution_count": null,
   "outputs": [
    {
     "output_type": "execute_result",
     "execution_count": 72,
     "data": {
      "text/plain": "423.03518298125556"
     },
     "metadata": {}
    }
   ]
  },
  {
   "cell_type": "code",
   "metadata": {
    "cell_id": "b05bd018535d407da57cc971a860fdc6",
    "tags": [],
    "deepnote_to_be_reexecuted": true,
    "source_hash": "71bb0eda",
    "execution_start": 1662832549943,
    "execution_millis": 658,
    "deepnote_cell_type": "code",
    "deepnote_cell_height": 97
   },
   "source": "#Changing nan by interpolation\ndf['max_price'] = df['max_price'].interpolate()\ndf['max_price'].mean()",
   "execution_count": null,
   "outputs": [
    {
     "output_type": "execute_result",
     "execution_count": 73,
     "data": {
      "text/plain": "68068.10257363878"
     },
     "metadata": {}
    }
   ]
  },
  {
   "cell_type": "code",
   "metadata": {
    "cell_id": "bd6cac0267924c4fac3053da4c6c5556",
    "tags": [],
    "deepnote_to_be_reexecuted": true,
    "source_hash": "b6b98a3e",
    "execution_start": 1662838278768,
    "execution_millis": 296,
    "deepnote_cell_type": "code",
    "deepnote_cell_height": 61
   },
   "source": "sns.histplot(df['min_price'], bins=10)",
   "execution_count": null,
   "outputs": [
    {
     "output_type": "execute_result",
     "execution_count": 201,
     "data": {
      "text/plain": "<AxesSubplot:xlabel='min_price', ylabel='Count'>"
     },
     "metadata": {}
    },
    {
     "data": {
      "text/plain": "<Figure size 432x288 with 1 Axes>",
      "image/png": "[encoded data removed]"
     },
     "metadata": {
      "needs_background": "light",
      "image/png": {
       "width": 395,
       "height": 263
      }
     },
     "output_type": "display_data"
    }
   ]
  },
  {
   "cell_type": "code",
   "metadata": {
    "cell_id": "b3bb14e3f9f7449997931fffc9e2f123",
    "tags": [],
    "deepnote_to_be_reexecuted": true,
    "source_hash": "ac21075d",
    "execution_start": 1662736647659,
    "execution_millis": 624,
    "deepnote_cell_type": "code",
    "deepnote_cell_height": 125.1875
   },
   "source": "%cd '~/work'\n%mkdir 'db'",
   "execution_count": null,
   "outputs": [
    {
     "name": "stdout",
     "text": "/\n",
     "output_type": "stream"
    }
   ]
  },
  {
   "cell_type": "code",
   "metadata": {
    "cell_id": "6eb51654cc664dc5bf8fcccf6a6ea0ca",
    "tags": [],
    "deepnote_to_be_reexecuted": true,
    "source_hash": "f20e508d",
    "execution_start": 1662738076628,
    "execution_millis": 329,
    "deepnote_cell_type": "code",
    "deepnote_cell_height": 220.1875
   },
   "source": "sns.histplot(df['max_price'])",
   "execution_count": null,
   "outputs": [
    {
     "output_type": "error",
     "ename": "KernelInterrupted",
     "evalue": "Execution interrupted by the Jupyter kernel.",
     "traceback": [
      "\u001b[0;31m---------------------------------------------------------------------------\u001b[0m",
      "\u001b[0;31mKernelInterrupted\u001b[0m: Execution interrupted by the Jupyter kernel."
     ]
    }
   ]
  },
  {
   "cell_type": "code",
   "metadata": {
    "cell_id": "15b422fc7b1145debf3314e1d7a7da7f",
    "tags": [],
    "deepnote_to_be_reexecuted": true,
    "source_hash": "1ddbf9f4",
    "execution_start": 1662736651570,
    "execution_millis": 11,
    "deepnote_cell_type": "code",
    "deepnote_cell_height": 135.1875,
    "deepnote_output_heights": [
     20.1875
    ]
   },
   "source": "dir_pandas = '~/work/db/{}'.format('CleanedRestaurantList_TripAdvisor.csv')\ndir_pandas",
   "execution_count": null,
   "outputs": [
    {
     "output_type": "execute_result",
     "execution_count": 27,
     "data": {
      "text/plain": "'~/work/db/CleanedRestaurantList_TripAdvisor.csv'"
     },
     "metadata": {}
    }
   ]
  },
  {
   "cell_type": "code",
   "metadata": {
    "cell_id": "64150982dc6e4c4d9c14f9d037db00e9",
    "tags": [],
    "deepnote_to_be_reexecuted": true,
    "source_hash": "a6fb318c",
    "execution_start": 1662736654114,
    "execution_millis": 109,
    "deepnote_cell_type": "code",
    "deepnote_cell_height": 94
   },
   "source": "df.to_csv(dir_pandas, index=True)\n",
   "execution_count": null,
   "outputs": []
  },
  {
   "cell_type": "markdown",
   "source": "<a style='text-decoration:none;line-height:16px;display:flex;color:#5B5B62;padding:10px;justify-content:end;' href='https://deepnote.com?utm_source=created-in-deepnote-cell&projectId=1fb563c0-3c4e-4849-a6dd-61947eda0562' target=\"_blank\">\n<img alt='Created in deepnote.com' style='display:inline;max-height:16px;margin:0px;margin-right:7.5px;' src='data:image/svg+xml;base64,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' > </img>\nCreated in <span style='font-weight:600;margin-left:4px;'>Deepnote</span></a>",
   "metadata": {
    "tags": [],
    "created_in_deepnote_cell": true,
    "deepnote_cell_type": "markdown"
   }
  }
 ],
 "nbformat": 4,
 "nbformat_minor": 2,
 "metadata": {
  "orig_nbformat": 2,
  "deepnote": {},
  "deepnote_notebook_id": "5b8293b7-34ca-4718-ba28-ed083b43b690",
  "deepnote_execution_queue": [
   {
    "cellId": "e6f760b5-96f2-487c-82c0-cb65243daa90",
    "sessionId": "194c2144-a79f-44c3-8638-a21ca5bdfca5",
    "msgId": "60dd376f-d2f4-47cc-991c-1be3b59e264b"
   },
   {
    "cellId": "f3dcb7fc8e8441968fef6b45bf4b9a4e",
    "sessionId": "194c2144-a79f-44c3-8638-a21ca5bdfca5",
    "msgId": "6c752cdf-648a-4395-be97-4411e7969b33"
   },
   {
    "cellId": "484bf69652a742fe86c1bd38e64e1674",
    "sessionId": "194c2144-a79f-44c3-8638-a21ca5bdfca5",
    "msgId": "e9190807-fc05-4949-8893-55bd4eda4bcb"
   },
   {
    "cellId": "bde01be7994e463f98fae2a467940f60",
    "sessionId": "194c2144-a79f-44c3-8638-a21ca5bdfca5",
    "msgId": "c5629510-2af5-484b-b253-1543109f2814"
   },
   {
    "cellId": "30eb419ef1af4bfe885a399aac019d02",
    "sessionId": "194c2144-a79f-44c3-8638-a21ca5bdfca5",
    "msgId": "6ab4ade3-bbb1-470b-8120-afd7fbdd3575"
   },
   {
    "cellId": "a8a1fda88ea24ac486bf6fce68dab243",
    "sessionId": "194c2144-a79f-44c3-8638-a21ca5bdfca5",
    "msgId": "0116d029-e321-4a04-9ef2-340a980e1017"
   },
   {
    "cellId": "ce6dd75b7f0645dc9139763d9ca9dc32",
    "sessionId": "194c2144-a79f-44c3-8638-a21ca5bdfca5",
    "msgId": "170eb508-7af7-416a-87c1-8ab5d2d652ba"
   },
   {
    "cellId": "bdb5c6334b764dc8acf76c8943502697",
    "sessionId": "194c2144-a79f-44c3-8638-a21ca5bdfca5",
    "msgId": "e3539384-9fca-479a-b47c-69e123133cad"
   },
   {
    "cellId": "1ad7f5c09e2b4936ba3236e280348bdc",
    "sessionId": "194c2144-a79f-44c3-8638-a21ca5bdfca5",
    "msgId": "4da4adbd-7037-4c97-bc0b-68cf1614631d"
   },
   {
    "cellId": "af8a8f310bca47e0b29dd0c0ea58d243",
    "sessionId": "194c2144-a79f-44c3-8638-a21ca5bdfca5",
    "msgId": "6d60f785-b6bc-4fed-be88-aa18ce105207"
   },
   {
    "cellId": "a1d43986abc348a48e163cac096c91e0",
    "sessionId": "194c2144-a79f-44c3-8638-a21ca5bdfca5",
    "msgId": "8deaa87f-2458-41af-b73f-92aa07b141b8"
   },
   {
    "cellId": "370b15e3b45043f58bf08f674a216abb",
    "sessionId": "194c2144-a79f-44c3-8638-a21ca5bdfca5",
    "msgId": "4d59383e-0c1b-41eb-99b8-29fe2e8f6c8f"
   },
   {
    "cellId": "1a9ed8d7fe57405b9e892e7502f8fa9b",
    "sessionId": "194c2144-a79f-44c3-8638-a21ca5bdfca5",
    "msgId": "43214ad3-3e0c-479d-9a06-00c3e1880f42"
   },
   {
    "cellId": "86947d83da744d55abc7fdf2d0b70e74",
    "sessionId": "194c2144-a79f-44c3-8638-a21ca5bdfca5",
    "msgId": "8514287a-be07-4998-a5cd-bf4f803fc968"
   },
   {
    "cellId": "b05bd018535d407da57cc971a860fdc6",
    "sessionId": "194c2144-a79f-44c3-8638-a21ca5bdfca5",
    "msgId": "7b4bad18-7b4e-4a9c-8eb5-fc4049405c66"
   },
   {
    "cellId": "bd6cac0267924c4fac3053da4c6c5556",
    "sessionId": "194c2144-a79f-44c3-8638-a21ca5bdfca5",
    "msgId": "c54ad8c0-ff7f-40cd-b8a2-b5a6015b5c77"
   },
   {
    "cellId": "b3bb14e3f9f7449997931fffc9e2f123",
    "sessionId": "194c2144-a79f-44c3-8638-a21ca5bdfca5",
    "msgId": "fa3eaf21-85a0-480f-adaa-0f9676ba12e9"
   },
   {
    "cellId": "6eb51654cc664dc5bf8fcccf6a6ea0ca",
    "sessionId": "194c2144-a79f-44c3-8638-a21ca5bdfca5",
    "msgId": "b6c9ff27-9442-4e64-ad55-a06ea0b4effe"
   },
   {
    "cellId": "15b422fc7b1145debf3314e1d7a7da7f",
    "sessionId": "194c2144-a79f-44c3-8638-a21ca5bdfca5",
    "msgId": "272d903f-bbbc-421b-975e-51aaf1618fc5"
   },
   {
    "cellId": "64150982dc6e4c4d9c14f9d037db00e9",
    "sessionId": "194c2144-a79f-44c3-8638-a21ca5bdfca5",
    "msgId": "02d95416-a0e3-4a72-901f-67edf781b6e0"
   }
  ],
  "deepnote_persisted_session": {
   "createdAt": "2022-09-10T20:01:45.460Z"
  }
 }
}