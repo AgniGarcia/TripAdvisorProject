{
 "cells": [
  {
   "cell_type": "code",
   "source": "import pandas as pd\nimport seaborn as sns\nimport matplotlib.pyplot as plt",
   "metadata": {
    "tags": [],
    "cell_id": "0b7b5848-7845-4023-a200-d049dd6f5bef",
    "deepnote_to_be_reexecuted": false,
    "source_hash": "bfc0ddb6",
    "execution_start": 1662830178212,
    "execution_millis": 1365,
    "deepnote_cell_type": "code",
    "deepnote_cell_height": 112
   },
   "outputs": [],
   "execution_count": null
  },
  {
   "cell_type": "code",
   "source": "df = pd.read_csv('CleanedRestaurantList_TripAdvisor.csv')\ndf",
   "metadata": {
    "cell_id": "a4280d0d6e0a4f4b8a7c9179251db0cc",
    "tags": [],
    "deepnote_to_be_reexecuted": false,
    "source_hash": "a2ef6427",
    "execution_start": 1662830201937,
    "execution_millis": 218,
    "deepnote_cell_type": "code",
    "deepnote_cell_height": 613
   },
   "outputs": [
    {
     "output_type": "execute_result",
     "execution_count": 2,
     "data": {
      "application/vnd.deepnote.dataframe.v3+json": {
       "column_count": 12,
       "row_count": 6723,
       "columns": [
        {
         "name": "Unnamed: 0",
         "dtype": "int64",
         "stats": {
          "unique_count": 6723,
          "nan_count": 0,
          "min": "0",
          "max": "6722",
          "histogram": [
           {
            "bin_start": 0,
            "bin_end": 672.2,
            "count": 673
           },
           {
            "bin_start": 672.2,
            "bin_end": 1344.4,
            "count": 672
           },
           {
            "bin_start": 1344.4,
            "bin_end": 2016.6000000000001,
            "count": 672
           },
           {
            "bin_start": 2016.6000000000001,
            "bin_end": 2688.8,
            "count": 672
           },
           {
            "bin_start": 2688.8,
            "bin_end": 3361,
            "count": 672
           },
           {
            "bin_start": 3361,
            "bin_end": 4033.2000000000003,
            "count": 673
           },
           {
            "bin_start": 4033.2000000000003,
            "bin_end": 4705.400000000001,
            "count": 672
           },
           {
            "bin_start": 4705.400000000001,
            "bin_end": 5377.6,
            "count": 672
           },
           {
            "bin_start": 5377.6,
            "bin_end": 6049.8,
            "count": 672
           },
           {
            "bin_start": 6049.8,
            "bin_end": 6722,
            "count": 673
           }
          ]
         }
        },
        {
         "name": "address",
         "dtype": "object",
         "stats": {
          "unique_count": 6631,
          "nan_count": 8,
          "categories": [
           {
            "name": "Avenida Paseo de La Reforma 222, Ciudad de M̩xico 06600 M̩xico",
            "count": 8
           },
           {
            "name": "6630 others",
            "count": 6707
           },
           {
            "name": "Missing",
            "count": 8
           }
          ]
         }
        },
        {
         "name": "domain",
         "dtype": "object",
         "stats": {
          "unique_count": 1,
          "nan_count": 0,
          "categories": [
           {
            "name": "www.tripadvisor.com.mx",
            "count": 6723
           }
          ]
         }
        },
        {
         "name": "extracted_date",
         "dtype": "object",
         "stats": {
          "unique_count": 37,
          "nan_count": 0,
          "categories": [
           {
            "name": "08/09/22 18:18",
            "count": 192
           },
           {
            "name": "08/09/22 18:16",
            "count": 190
           },
           {
            "name": "35 others",
            "count": 6341
           }
          ]
         }
        },
        {
         "name": "food_category",
         "dtype": "object",
         "stats": {
          "unique_count": 1101,
          "nan_count": 2300,
          "categories": [
           {
            "name": "Almuerzo, Cena",
            "count": 509
           },
           {
            "name": "1100 others",
            "count": 3914
           },
           {
            "name": "Missing",
            "count": 2300
           }
          ]
         }
        },
        {
         "name": "food_types",
         "dtype": "object",
         "stats": {
          "unique_count": 689,
          "nan_count": 3809,
          "categories": [
           {
            "name": "Almuerzo, Cena",
            "count": 329
           },
           {
            "name": "688 others",
            "count": 2585
           },
           {
            "name": "Missing",
            "count": 3809
           }
          ]
         }
        },
        {
         "name": "link",
         "dtype": "object",
         "stats": {
          "unique_count": 6723,
          "nan_count": 0,
          "categories": [
           {
            "name": "https://www.tripadvisor.com.mx/Restaurant_Review-g150800-d24093482-Reviews-Pardela-Mexico_City_Central_Mexico_and_Gulf_Coast.html",
            "count": 1
           },
           {
            "name": "https://www.tripadvisor.com.mx/Restaurant_Review-g150800-d4035248-Reviews-Quattro-Mexico_City_Central_Mexico_and_Gulf_Coast.html",
            "count": 1
           },
           {
            "name": "6721 others",
            "count": 6721
           }
          ]
         }
        },
        {
         "name": "opinions",
         "dtype": "object",
         "stats": {
          "unique_count": 390,
          "nan_count": 1514,
          "categories": [
           {
            "name": "1",
            "count": 736
           },
           {
            "name": "389 others",
            "count": 4473
           },
           {
            "name": "Missing",
            "count": 1514
           }
          ]
         }
        },
        {
         "name": "min_price",
         "dtype": "float64",
         "stats": {
          "unique_count": 199,
          "nan_count": 0,
          "min": "2.0",
          "max": "30128.0",
          "histogram": [
           {
            "bin_start": 2,
            "bin_end": 3014.6,
            "count": 6646
           },
           {
            "bin_start": 3014.6,
            "bin_end": 6027.2,
            "count": 45
           },
           {
            "bin_start": 6027.2,
            "bin_end": 9039.8,
            "count": 14
           },
           {
            "bin_start": 9039.8,
            "bin_end": 12052.4,
            "count": 12
           },
           {
            "bin_start": 12052.4,
            "bin_end": 15065,
            "count": 3
           },
           {
            "bin_start": 15065,
            "bin_end": 18077.6,
            "count": 2
           },
           {
            "bin_start": 18077.6,
            "bin_end": 21090.2,
            "count": 0
           },
           {
            "bin_start": 21090.2,
            "bin_end": 24102.8,
            "count": 0
           },
           {
            "bin_start": 24102.8,
            "bin_end": 27115.399999999998,
            "count": 0
           },
           {
            "bin_start": 27115.399999999998,
            "bin_end": 30128,
            "count": 1
           }
          ]
         }
        },
        {
         "name": "max_price",
         "dtype": "float64",
         "stats": {
          "unique_count": 261,
          "nan_count": 0,
          "min": "7.0",
          "max": "100011112.0",
          "histogram": [
           {
            "bin_start": 7,
            "bin_end": 10001117.5,
            "count": 6722
           },
           {
            "bin_start": 10001117.5,
            "bin_end": 20002228,
            "count": 0
           },
           {
            "bin_start": 20002228,
            "bin_end": 30003338.5,
            "count": 0
           },
           {
            "bin_start": 30003338.5,
            "bin_end": 40004449,
            "count": 0
           },
           {
            "bin_start": 40004449,
            "bin_end": 50005559.5,
            "count": 0
           },
           {
            "bin_start": 50005559.5,
            "bin_end": 60006670,
            "count": 0
           },
           {
            "bin_start": 60006670,
            "bin_end": 70007780.5,
            "count": 0
           },
           {
            "bin_start": 70007780.5,
            "bin_end": 80008891,
            "count": 0
           },
           {
            "bin_start": 80008891,
            "bin_end": 90010001.5,
            "count": 0
           },
           {
            "bin_start": 90010001.5,
            "bin_end": 100011112,
            "count": 1
           }
          ]
         }
        },
        {
         "name": "rating",
         "dtype": "float64",
         "stats": {
          "unique_count": 9,
          "nan_count": 1514,
          "min": "1.0",
          "max": "5.0",
          "histogram": [
           {
            "bin_start": 1,
            "bin_end": 1.4,
            "count": 72
           },
           {
            "bin_start": 1.4,
            "bin_end": 1.8,
            "count": 21
           },
           {
            "bin_start": 1.8,
            "bin_end": 2.2,
            "count": 74
           },
           {
            "bin_start": 2.2,
            "bin_end": 2.6,
            "count": 138
           },
           {
            "bin_start": 2.6,
            "bin_end": 3,
            "count": 0
           },
           {
            "bin_start": 3,
            "bin_end": 3.4000000000000004,
            "count": 390
           },
           {
            "bin_start": 3.4000000000000004,
            "bin_end": 3.8000000000000003,
            "count": 760
           },
           {
            "bin_start": 3.8000000000000003,
            "bin_end": 4.2,
            "count": 1549
           },
           {
            "bin_start": 4.2,
            "bin_end": 4.6,
            "count": 1095
           },
           {
            "bin_start": 4.6,
            "bin_end": 5,
            "count": 1110
           }
          ]
         }
        },
        {
         "name": "restaurant_name",
         "dtype": "object",
         "stats": {
          "unique_count": 6092,
          "nan_count": 8,
          "categories": [
           {
            "name": "Vips",
            "count": 17
           },
           {
            "name": "6091 others",
            "count": 6698
           },
           {
            "name": "Missing",
            "count": 8
           }
          ]
         }
        },
        {
         "name": "_deepnote_index_column",
         "dtype": "int64"
        }
       ],
       "rows": [
        {
         "Unnamed: 0": "0",
         "address": "Avenida Emilio Castelar 44, Ciudad de M̩xico 11000 M̩xico",
         "domain": "www.tripadvisor.com.mx",
         "extracted_date": "08/09/22 17:49",
         "food_category": "Almuerzo, Cena, Bebidas",
         "food_types": "Vino y cerveza, Servicio de mesa",
         "link": "https://www.tripadvisor.com.mx/Restaurant_Review-g150800-d24093482-Reviews-Pardela-Mexico_City_Central_Mexico_and_Gulf_Coast.html",
         "opinions": "2",
         "min_price": "463.7050452781371",
         "max_price": "44320.62354463131",
         "rating": "5.0",
         "restaurant_name": "Pardela",
         "_deepnote_index_column": "0"
        },
        {
         "Unnamed: 0": "1",
         "address": "AVENIDA SANTA FE 160 AVENIDA SANTA FE 160, Ciudad de M̩xico 01376 M̩xico",
         "domain": "www.tripadvisor.com.mx",
         "extracted_date": "08/09/22 17:49",
         "food_category": "Italiana, Mediterr��nea, Europea, Saludable, Toscana, Romana, De Lacio, Siciliana, Del centro italiano, Del sur italiano",
         "food_types": "Apto para vegetarianos, Opciones veganas, Opciones sin gluten",
         "link": "https://www.tripadvisor.com.mx/Restaurant_Review-g150800-d4035248-Reviews-Quattro-Mexico_City_Central_Mexico_and_Gulf_Coast.html",
         "opinions": "741",
         "min_price": "402.0",
         "max_price": "1004.0",
         "rating": "5.0",
         "restaurant_name": "Quattro Gastronom�_a Italiana",
         "_deepnote_index_column": "1"
        },
        {
         "Unnamed: 0": "2",
         "address": "Avenida Paseo de La Reforma 297 Sofitel Mexico City, Ciudad de M̩xico 06500 M̩xico",
         "domain": "www.tripadvisor.com.mx",
         "extracted_date": "08/09/22 17:49",
         "food_category": "Desayuno, Almuerzo, Brunch",
         "food_types": "Reservaciones, Asiento, Sirve alcohol, Bar completo, Acepta tarjetas de cr̩dito, Servicio de mesa",
         "link": "https://www.tripadvisor.com.mx/Restaurant_Review-g150800-d20295948-Reviews-Cityzen_Rooftop_Kitchen-Mexico_City_Central_Mexico_and_Gulf_Coast.html",
         "opinions": "1,080",
         "min_price": "463.7050452781371",
         "max_price": "44320.62354463131",
         "rating": "5.0",
         "restaurant_name": "Cityzen Rooftop Kitchen",
         "_deepnote_index_column": "2"
        },
        {
         "Unnamed: 0": "3",
         "address": "Calzada Acoxpa # 610 Centro Comercial Gran Terraza Coapa locales 101,102,103, Ciudad de M̩xico 14390 M̩xico",
         "domain": "www.tripadvisor.com.mx",
         "extracted_date": "08/09/22 17:49",
         "food_category": "Mexicana, Parrilla, Contempor��nea",
         "food_types": "Almuerzo, Cena, Brunch, Abierto hasta tarde, Bebidas",
         "link": "https://www.tripadvisor.com.mx/Restaurant_Review-g150800-d19078418-Reviews-Porfirio_s_Coapa-Mexico_City_Central_Mexico_and_Gulf_Coast.html",
         "opinions": "643",
         "min_price": "250.0",
         "max_price": "600.0",
         "rating": "5.0",
         "restaurant_name": "Porfirio's Coapa",
         "_deepnote_index_column": "3"
        },
        {
         "Unnamed: 0": "4",
         "address": "Calle Goldsmith Polanco III Secc. 66 Miguel Hidalgo, Ciudad de M̩xico 11540 M̩xico",
         "domain": "www.tripadvisor.com.mx",
         "extracted_date": "08/09/22 17:49",
         "food_category": "Asi��tica, Tailandesa, Coreana, Fusi�_n",
         "food_types": "Apto para vegetarianos",
         "link": "https://www.tripadvisor.com.mx/Restaurant_Review-g150800-d20158337-Reviews-KYU_MEXICO-Mexico_City_Central_Mexico_and_Gulf_Coast.html",
         "opinions": "373",
         "min_price": "1200.0",
         "max_price": "1800.0",
         "rating": "5.0",
         "restaurant_name": "KYU M��XICO",
         "_deepnote_index_column": "4"
        },
        {
         "Unnamed: 0": "5",
         "address": "Av. Presidente Masaryk 294, Colonia Polanco IV, Ciudad de M̩xico 11550 M̩xico",
         "domain": "www.tripadvisor.com.mx",
         "extracted_date": "08/09/22 17:49",
         "food_category": "Mariscos, Mediterr��nea, Internacional, Contempor��nea",
         "food_types": "Opciones sin gluten",
         "link": "https://www.tripadvisor.com.mx/Restaurant_Review-g150800-d19246233-Reviews-Taboo_Polanco-Mexico_City_Central_Mexico_and_Gulf_Coast.html",
         "opinions": "693",
         "min_price": "601.0",
         "max_price": "801.0",
         "rating": "5.0",
         "restaurant_name": "Taboo Polanco",
         "_deepnote_index_column": "5"
        },
        {
         "Unnamed: 0": "6",
         "address": "Tonala 144 Roma Norte Primer Piso, Ciudad de M̩xico 06700 M̩xico",
         "domain": "www.tripadvisor.com.mx",
         "extracted_date": "08/09/22 17:49",
         "food_category": "Almuerzo, Cena",
         "food_types": "nan",
         "link": "https://www.tripadvisor.com.mx/Restaurant_Review-g150800-d24192705-Reviews-Sake_Sushi_Bar_Roma-Mexico_City_Central_Mexico_and_Gulf_Coast.html",
         "opinions": "nan",
         "min_price": "463.7050452781371",
         "max_price": "44320.62354463131",
         "rating": "nan",
         "restaurant_name": "Sake Sushi Bar ( Roma )",
         "_deepnote_index_column": "6"
        },
        {
         "Unnamed: 0": "7",
         "address": "Avenida Miguel Angel de Quevedo 227 Plaza Oasis, Ciudad de M̩xico 04310 M̩xico",
         "domain": "www.tripadvisor.com.mx",
         "extracted_date": "08/09/22 17:49",
         "food_category": "Argentina, Internacional, Parrilla, Contempor��nea",
         "food_types": "Opciones sin gluten",
         "link": "https://www.tripadvisor.com.mx/Restaurant_Review-g150800-d10330947-Reviews-Cambalache_Plaza_Oasis-Mexico_City_Central_Mexico_and_Gulf_Coast.html",
         "opinions": "760",
         "min_price": "500.0",
         "max_price": "800.0",
         "rating": "4.5",
         "restaurant_name": "Cambalache Plaza Oasis",
         "_deepnote_index_column": "7"
        },
        {
         "Unnamed: 0": "8",
         "address": "Avenida Presidente Masaryk, 311 Polanco, Ciudad de M̩xico 11550 M̩xico",
         "domain": "www.tripadvisor.com.mx",
         "extracted_date": "08/09/22 17:49",
         "food_category": "Bar, Mediterr��nea, Griega",
         "food_types": "Almuerzo, Cena, Abierto hasta tarde, Bebidas",
         "link": "https://www.tripadvisor.com.mx/Restaurant_Review-g150800-d23653334-Reviews-Ilios_Greek_Estiatorio_Polanco-Mexico_City_Central_Mexico_and_Gulf_Coast.html",
         "opinions": "396",
         "min_price": "700.0",
         "max_price": "1500.0",
         "rating": "5.0",
         "restaurant_name": "Ilios Greek Estiatorio Polanco",
         "_deepnote_index_column": "8"
        },
        {
         "Unnamed: 0": "9",
         "address": "Calle Juan Sanchez Azcona No. 529 Esq. Diagonal San Antonio, Col. Narvarte, Ciudad de M̩xico 03020 M̩xico",
         "domain": "www.tripadvisor.com.mx",
         "extracted_date": "08/09/22 17:49",
         "food_category": "Apto para vegetarianos, Opciones sin gluten",
         "food_types": "Almuerzo, Cena",
         "link": "https://www.tripadvisor.com.mx/Restaurant_Review-g150800-d8288826-Reviews-Sonora_Grill_Narvarte-Mexico_City_Central_Mexico_and_Gulf_Coast.html",
         "opinions": "404",
         "min_price": "463.7050452781371",
         "max_price": "44320.62354463131",
         "rating": "5.0",
         "restaurant_name": "Sonora Grill Narvarte",
         "_deepnote_index_column": "9"
        }
       ]
      },
      "text/plain": "      Unnamed: 0                                            address  \\\n0              0  Avenida Emilio Castelar 44, Ciudad de M̩xico 1...   \n1              1  AVENIDA SANTA FE 160 AVENIDA SANTA FE 160, Ciu...   \n2              2  Avenida Paseo de La Reforma 297 Sofitel Mexico...   \n3              3  Calzada Acoxpa # 610 Centro Comercial Gran Ter...   \n4              4  Calle Goldsmith Polanco III Secc. 66 Miguel Hi...   \n...          ...                                                ...   \n6718        6718  Bulgaria 52, Portales, Ciudad de M̩xico 03300 ...   \n6719        6719  Av Plan de San Luis 607, Victoria de las Democ...   \n6720        6720  Av Emilio Carranza Esquina con Eje 1 Norte, Ci...   \n6721        6721    Calzada Taxquena, Ciudad de M̩xico 04250 M̩xico   \n6722        6722  Guti̩rrez Zamora 31, Ciudad de M̩xico 04030 M̩...   \n\n                      domain  extracted_date  \\\n0     www.tripadvisor.com.mx  08/09/22 17:49   \n1     www.tripadvisor.com.mx  08/09/22 17:49   \n2     www.tripadvisor.com.mx  08/09/22 17:49   \n3     www.tripadvisor.com.mx  08/09/22 17:49   \n4     www.tripadvisor.com.mx  08/09/22 17:49   \n...                      ...             ...   \n6718  www.tripadvisor.com.mx  08/09/22 18:25   \n6719  www.tripadvisor.com.mx  08/09/22 18:25   \n6720  www.tripadvisor.com.mx  08/09/22 18:25   \n6721  www.tripadvisor.com.mx  08/09/22 18:25   \n6722  www.tripadvisor.com.mx  08/09/22 18:25   \n\n                                          food_category  \\\n0                               Almuerzo, Cena, Bebidas   \n1     Italiana, Mediterr��nea, Europea, Saludable, T...   \n2                            Desayuno, Almuerzo, Brunch   \n3                    Mexicana, Parrilla, Contempor��nea   \n4               Asi��tica, Tailandesa, Coreana, Fusi�_n   \n...                                                 ...   \n6718                                     Almuerzo, Cena   \n6719   Italiana, Brasilera, Internacional, Sudamericana   \n6720                                           Mexicana   \n6721                                                NaN   \n6722                                           Italiana   \n\n                                             food_types  \\\n0                      Vino y cerveza, Servicio de mesa   \n1     Apto para vegetarianos, Opciones veganas, Opci...   \n2     Reservaciones, Asiento, Sirve alcohol, Bar com...   \n3     Almuerzo, Cena, Brunch, Abierto hasta tarde, B...   \n4                                Apto para vegetarianos   \n...                                                 ...   \n6718                                                NaN   \n6719                                                NaN   \n6720                                                NaN   \n6721                                                NaN   \n6722                                                NaN   \n\n                                                   link opinions    min_price  \\\n0     https://www.tripadvisor.com.mx/Restaurant_Revi...        2   463.705045   \n1     https://www.tripadvisor.com.mx/Restaurant_Revi...      741   402.000000   \n2     https://www.tripadvisor.com.mx/Restaurant_Revi...    1,080   463.705045   \n3     https://www.tripadvisor.com.mx/Restaurant_Revi...      643   250.000000   \n4     https://www.tripadvisor.com.mx/Restaurant_Revi...      373  1200.000000   \n...                                                 ...      ...          ...   \n6718  https://www.tripadvisor.com.mx/Restaurant_Revi...      NaN   463.705045   \n6719  https://www.tripadvisor.com.mx/Restaurant_Revi...      NaN   100.000000   \n6720  https://www.tripadvisor.com.mx/Restaurant_Revi...      NaN    13.000000   \n6721  https://www.tripadvisor.com.mx/Restaurant_Revi...      NaN   463.705045   \n6722  https://www.tripadvisor.com.mx/Restaurant_Revi...      NaN   250.000000   \n\n         max_price  rating                   restaurant_name  \n0     44320.623545     5.0                           Pardela  \n1      1004.000000     5.0     Quattro Gastronom�_a Italiana  \n2     44320.623545     5.0           Cityzen Rooftop Kitchen  \n3       600.000000     5.0                  Porfirio's Coapa  \n4      1800.000000     5.0                       KYU M��XICO  \n...            ...     ...                               ...  \n6718  44320.623545     NaN                       Kekas Pizza  \n6719    300.000000     NaN                     Pizza Rodizio  \n6720    200.000000     NaN  Taqueria Los G�_eros de san P�_o  \n6721  44320.623545     NaN                                BP  \n6722    400.000000     NaN                         La Strada  \n\n[6723 rows x 12 columns]",
      "text/html": "<div>\n<style scoped>\n    .dataframe tbody tr th:only-of-type {\n        vertical-align: middle;\n    }\n\n    .dataframe tbody tr th {\n        vertical-align: top;\n    }\n\n    .dataframe thead th {\n        text-align: right;\n    }\n</style>\n<table border=\"1\" class=\"dataframe\">\n  <thead>\n    <tr style=\"text-align: right;\">\n      <th></th>\n      <th>Unnamed: 0</th>\n      <th>address</th>\n      <th>domain</th>\n      <th>extracted_date</th>\n      <th>food_category</th>\n      <th>food_types</th>\n      <th>link</th>\n      <th>opinions</th>\n      <th>min_price</th>\n      <th>max_price</th>\n      <th>rating</th>\n      <th>restaurant_name</th>\n    </tr>\n  </thead>\n  <tbody>\n    <tr>\n      <th>0</th>\n      <td>0</td>\n      <td>Avenida Emilio Castelar 44, Ciudad de M̩xico 1...</td>\n      <td>www.tripadvisor.com.mx</td>\n      <td>08/09/22 17:49</td>\n      <td>Almuerzo, Cena, Bebidas</td>\n      <td>Vino y cerveza, Servicio de mesa</td>\n      <td>https://www.tripadvisor.com.mx/Restaurant_Revi...</td>\n      <td>2</td>\n      <td>463.705045</td>\n      <td>44320.623545</td>\n      <td>5.0</td>\n      <td>Pardela</td>\n    </tr>\n    <tr>\n      <th>1</th>\n      <td>1</td>\n      <td>AVENIDA SANTA FE 160 AVENIDA SANTA FE 160, Ciu...</td>\n      <td>www.tripadvisor.com.mx</td>\n      <td>08/09/22 17:49</td>\n      <td>Italiana, Mediterr��nea, Europea, Saludable, T...</td>\n      <td>Apto para vegetarianos, Opciones veganas, Opci...</td>\n      <td>https://www.tripadvisor.com.mx/Restaurant_Revi...</td>\n      <td>741</td>\n      <td>402.000000</td>\n      <td>1004.000000</td>\n      <td>5.0</td>\n      <td>Quattro Gastronom�_a Italiana</td>\n    </tr>\n    <tr>\n      <th>2</th>\n      <td>2</td>\n      <td>Avenida Paseo de La Reforma 297 Sofitel Mexico...</td>\n      <td>www.tripadvisor.com.mx</td>\n      <td>08/09/22 17:49</td>\n      <td>Desayuno, Almuerzo, Brunch</td>\n      <td>Reservaciones, Asiento, Sirve alcohol, Bar com...</td>\n      <td>https://www.tripadvisor.com.mx/Restaurant_Revi...</td>\n      <td>1,080</td>\n      <td>463.705045</td>\n      <td>44320.623545</td>\n      <td>5.0</td>\n      <td>Cityzen Rooftop Kitchen</td>\n    </tr>\n    <tr>\n      <th>3</th>\n      <td>3</td>\n      <td>Calzada Acoxpa # 610 Centro Comercial Gran Ter...</td>\n      <td>www.tripadvisor.com.mx</td>\n      <td>08/09/22 17:49</td>\n      <td>Mexicana, Parrilla, Contempor��nea</td>\n      <td>Almuerzo, Cena, Brunch, Abierto hasta tarde, B...</td>\n      <td>https://www.tripadvisor.com.mx/Restaurant_Revi...</td>\n      <td>643</td>\n      <td>250.000000</td>\n      <td>600.000000</td>\n      <td>5.0</td>\n      <td>Porfirio's Coapa</td>\n    </tr>\n    <tr>\n      <th>4</th>\n      <td>4</td>\n      <td>Calle Goldsmith Polanco III Secc. 66 Miguel Hi...</td>\n      <td>www.tripadvisor.com.mx</td>\n      <td>08/09/22 17:49</td>\n      <td>Asi��tica, Tailandesa, Coreana, Fusi�_n</td>\n      <td>Apto para vegetarianos</td>\n      <td>https://www.tripadvisor.com.mx/Restaurant_Revi...</td>\n      <td>373</td>\n      <td>1200.000000</td>\n      <td>1800.000000</td>\n      <td>5.0</td>\n      <td>KYU M��XICO</td>\n    </tr>\n    <tr>\n      <th>...</th>\n      <td>...</td>\n      <td>...</td>\n      <td>...</td>\n      <td>...</td>\n      <td>...</td>\n      <td>...</td>\n      <td>...</td>\n      <td>...</td>\n      <td>...</td>\n      <td>...</td>\n      <td>...</td>\n      <td>...</td>\n    </tr>\n    <tr>\n      <th>6718</th>\n      <td>6718</td>\n      <td>Bulgaria 52, Portales, Ciudad de M̩xico 03300 ...</td>\n      <td>www.tripadvisor.com.mx</td>\n      <td>08/09/22 18:25</td>\n      <td>Almuerzo, Cena</td>\n      <td>NaN</td>\n      <td>https://www.tripadvisor.com.mx/Restaurant_Revi...</td>\n      <td>NaN</td>\n      <td>463.705045</td>\n      <td>44320.623545</td>\n      <td>NaN</td>\n      <td>Kekas Pizza</td>\n    </tr>\n    <tr>\n      <th>6719</th>\n      <td>6719</td>\n      <td>Av Plan de San Luis 607, Victoria de las Democ...</td>\n      <td>www.tripadvisor.com.mx</td>\n      <td>08/09/22 18:25</td>\n      <td>Italiana, Brasilera, Internacional, Sudamericana</td>\n      <td>NaN</td>\n      <td>https://www.tripadvisor.com.mx/Restaurant_Revi...</td>\n      <td>NaN</td>\n      <td>100.000000</td>\n      <td>300.000000</td>\n      <td>NaN</td>\n      <td>Pizza Rodizio</td>\n    </tr>\n    <tr>\n      <th>6720</th>\n      <td>6720</td>\n      <td>Av Emilio Carranza Esquina con Eje 1 Norte, Ci...</td>\n      <td>www.tripadvisor.com.mx</td>\n      <td>08/09/22 18:25</td>\n      <td>Mexicana</td>\n      <td>NaN</td>\n      <td>https://www.tripadvisor.com.mx/Restaurant_Revi...</td>\n      <td>NaN</td>\n      <td>13.000000</td>\n      <td>200.000000</td>\n      <td>NaN</td>\n      <td>Taqueria Los G�_eros de san P�_o</td>\n    </tr>\n    <tr>\n      <th>6721</th>\n      <td>6721</td>\n      <td>Calzada Taxquena, Ciudad de M̩xico 04250 M̩xico</td>\n      <td>www.tripadvisor.com.mx</td>\n      <td>08/09/22 18:25</td>\n      <td>NaN</td>\n      <td>NaN</td>\n      <td>https://www.tripadvisor.com.mx/Restaurant_Revi...</td>\n      <td>NaN</td>\n      <td>463.705045</td>\n      <td>44320.623545</td>\n      <td>NaN</td>\n      <td>BP</td>\n    </tr>\n    <tr>\n      <th>6722</th>\n      <td>6722</td>\n      <td>Guti̩rrez Zamora 31, Ciudad de M̩xico 04030 M̩...</td>\n      <td>www.tripadvisor.com.mx</td>\n      <td>08/09/22 18:25</td>\n      <td>Italiana</td>\n      <td>NaN</td>\n      <td>https://www.tripadvisor.com.mx/Restaurant_Revi...</td>\n      <td>NaN</td>\n      <td>250.000000</td>\n      <td>400.000000</td>\n      <td>NaN</td>\n      <td>La Strada</td>\n    </tr>\n  </tbody>\n</table>\n<p>6723 rows × 12 columns</p>\n</div>"
     },
     "metadata": {}
    }
   ],
   "execution_count": null
  },
  {
   "cell_type": "markdown",
   "source": "<a style='text-decoration:none;line-height:16px;display:flex;color:#5B5B62;padding:10px;justify-content:end;' href='https://deepnote.com?utm_source=created-in-deepnote-cell&projectId=1fb563c0-3c4e-4849-a6dd-61947eda0562' target=\"_blank\">\n<img alt='Created in deepnote.com' style='display:inline;max-height:16px;margin:0px;margin-right:7.5px;' src='data:image/svg+xml;base64,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' > </img>\nCreated in <span style='font-weight:600;margin-left:4px;'>Deepnote</span></a>",
   "metadata": {
    "tags": [],
    "created_in_deepnote_cell": true,
    "deepnote_cell_type": "markdown"
   }
  }
 ],
 "nbformat": 4,
 "nbformat_minor": 2,
 "metadata": {
  "orig_nbformat": 2,
  "deepnote": {},
  "deepnote_notebook_id": "d7c252ec-8373-4187-a27f-d42a3c9ec11f",
  "deepnote_persisted_session": {
   "createdAt": "2022-09-10T20:01:43.308Z"
  },
  "deepnote_execution_queue": []
 }
}